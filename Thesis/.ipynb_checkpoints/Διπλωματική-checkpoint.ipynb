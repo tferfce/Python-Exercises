{
 "cells": [
  {
   "cell_type": "code",
   "execution_count": 1,
   "metadata": {
    "ExecuteTime": {
     "end_time": "2019-09-22T07:42:25.287376Z",
     "start_time": "2019-09-22T07:42:21.827230Z"
    },
    "collapsed": true
   },
   "outputs": [],
   "source": [
    "import numpy as np\n",
    "import pandas as pd\n",
    "import matplotlib.pyplot as plt\n",
    "%matplotlib inline\n",
    "import seaborn as sns\n",
    "sns.set_style(\"whitegrid\")\n",
    "\n",
    "import re\n",
    "import nltk\n",
    "from nltk.corpus import stopwords\n",
    "from nltk.stem import WordNetLemmatizer\n",
    "from sklearn.feature_extraction.text import TfidfVectorizer\n",
    "from sklearn.model_selection import train_test_split"
   ]
  },
  {
   "cell_type": "code",
   "execution_count": 2,
   "metadata": {
    "ExecuteTime": {
     "end_time": "2019-09-22T07:42:26.183343Z",
     "start_time": "2019-09-22T07:42:26.027437Z"
    },
    "scrolled": true
   },
   "outputs": [
    {
     "data": {
      "text/html": [
       "<div>\n",
       "<style>\n",
       "    .dataframe thead tr:only-child th {\n",
       "        text-align: right;\n",
       "    }\n",
       "\n",
       "    .dataframe thead th {\n",
       "        text-align: left;\n",
       "    }\n",
       "\n",
       "    .dataframe tbody tr th {\n",
       "        vertical-align: top;\n",
       "    }\n",
       "</style>\n",
       "<table border=\"1\" class=\"dataframe\">\n",
       "  <thead>\n",
       "    <tr style=\"text-align: right;\">\n",
       "      <th></th>\n",
       "      <th>id</th>\n",
       "      <th>asins</th>\n",
       "      <th>brand</th>\n",
       "      <th>categories</th>\n",
       "      <th>colors</th>\n",
       "      <th>dateAdded</th>\n",
       "      <th>dateUpdated</th>\n",
       "      <th>dimension</th>\n",
       "      <th>ean</th>\n",
       "      <th>keys</th>\n",
       "      <th>...</th>\n",
       "      <th>Score</th>\n",
       "      <th>reviews.sourceURLs</th>\n",
       "      <th>reviews.text</th>\n",
       "      <th>reviews.title</th>\n",
       "      <th>reviews.userCity</th>\n",
       "      <th>reviews.userProvince</th>\n",
       "      <th>reviews.username</th>\n",
       "      <th>sizes</th>\n",
       "      <th>upc</th>\n",
       "      <th>weight</th>\n",
       "    </tr>\n",
       "  </thead>\n",
       "  <tbody>\n",
       "    <tr>\n",
       "      <th>0</th>\n",
       "      <td>AVpe7AsMilAPnD_xQ78G</td>\n",
       "      <td>B00QJDU3KY</td>\n",
       "      <td>Amazon</td>\n",
       "      <td>Amazon Devices,mazon.co.uk</td>\n",
       "      <td>NaN</td>\n",
       "      <td>2016-03-08T20:21:53Z</td>\n",
       "      <td>2017-07-18T23:52:58Z</td>\n",
       "      <td>169 mm x 117 mm x 9.1 mm</td>\n",
       "      <td>NaN</td>\n",
       "      <td>kindlepaperwhite/b00qjdu3ky</td>\n",
       "      <td>...</td>\n",
       "      <td>5.0</td>\n",
       "      <td>https://www.amazon.com/Kindle-Paperwhite-High-...</td>\n",
       "      <td>I initially had trouble deciding between the p...</td>\n",
       "      <td>Paperwhite voyage, no regrets!</td>\n",
       "      <td>NaN</td>\n",
       "      <td>NaN</td>\n",
       "      <td>Cristina M</td>\n",
       "      <td>NaN</td>\n",
       "      <td>NaN</td>\n",
       "      <td>205 grams</td>\n",
       "    </tr>\n",
       "    <tr>\n",
       "      <th>1</th>\n",
       "      <td>AVpe7AsMilAPnD_xQ78G</td>\n",
       "      <td>B00QJDU3KY</td>\n",
       "      <td>Amazon</td>\n",
       "      <td>Amazon Devices,mazon.co.uk</td>\n",
       "      <td>NaN</td>\n",
       "      <td>2016-03-08T20:21:53Z</td>\n",
       "      <td>2017-07-18T23:52:58Z</td>\n",
       "      <td>169 mm x 117 mm x 9.1 mm</td>\n",
       "      <td>NaN</td>\n",
       "      <td>kindlepaperwhite/b00qjdu3ky</td>\n",
       "      <td>...</td>\n",
       "      <td>5.0</td>\n",
       "      <td>https://www.amazon.com/Kindle-Paperwhite-High-...</td>\n",
       "      <td>Allow me to preface this with a little history...</td>\n",
       "      <td>One Simply Could Not Ask For More</td>\n",
       "      <td>NaN</td>\n",
       "      <td>NaN</td>\n",
       "      <td>Ricky</td>\n",
       "      <td>NaN</td>\n",
       "      <td>NaN</td>\n",
       "      <td>205 grams</td>\n",
       "    </tr>\n",
       "    <tr>\n",
       "      <th>2</th>\n",
       "      <td>AVpe7AsMilAPnD_xQ78G</td>\n",
       "      <td>B00QJDU3KY</td>\n",
       "      <td>Amazon</td>\n",
       "      <td>Amazon Devices,mazon.co.uk</td>\n",
       "      <td>NaN</td>\n",
       "      <td>2016-03-08T20:21:53Z</td>\n",
       "      <td>2017-07-18T23:52:58Z</td>\n",
       "      <td>169 mm x 117 mm x 9.1 mm</td>\n",
       "      <td>NaN</td>\n",
       "      <td>kindlepaperwhite/b00qjdu3ky</td>\n",
       "      <td>...</td>\n",
       "      <td>4.0</td>\n",
       "      <td>https://www.amazon.com/Kindle-Paperwhite-High-...</td>\n",
       "      <td>I am enjoying it so far. Great for reading. Ha...</td>\n",
       "      <td>Great for those that just want an e-reader</td>\n",
       "      <td>NaN</td>\n",
       "      <td>NaN</td>\n",
       "      <td>Tedd Gardiner</td>\n",
       "      <td>NaN</td>\n",
       "      <td>NaN</td>\n",
       "      <td>205 grams</td>\n",
       "    </tr>\n",
       "    <tr>\n",
       "      <th>3</th>\n",
       "      <td>AVpe7AsMilAPnD_xQ78G</td>\n",
       "      <td>B00QJDU3KY</td>\n",
       "      <td>Amazon</td>\n",
       "      <td>Amazon Devices,mazon.co.uk</td>\n",
       "      <td>NaN</td>\n",
       "      <td>2016-03-08T20:21:53Z</td>\n",
       "      <td>2017-07-18T23:52:58Z</td>\n",
       "      <td>169 mm x 117 mm x 9.1 mm</td>\n",
       "      <td>NaN</td>\n",
       "      <td>kindlepaperwhite/b00qjdu3ky</td>\n",
       "      <td>...</td>\n",
       "      <td>5.0</td>\n",
       "      <td>https://www.amazon.com/Kindle-Paperwhite-High-...</td>\n",
       "      <td>I bought one of the first Paperwhites and have...</td>\n",
       "      <td>Love / Hate relationship</td>\n",
       "      <td>NaN</td>\n",
       "      <td>NaN</td>\n",
       "      <td>Dougal</td>\n",
       "      <td>NaN</td>\n",
       "      <td>NaN</td>\n",
       "      <td>205 grams</td>\n",
       "    </tr>\n",
       "    <tr>\n",
       "      <th>4</th>\n",
       "      <td>AVpe7AsMilAPnD_xQ78G</td>\n",
       "      <td>B00QJDU3KY</td>\n",
       "      <td>Amazon</td>\n",
       "      <td>Amazon Devices,mazon.co.uk</td>\n",
       "      <td>NaN</td>\n",
       "      <td>2016-03-08T20:21:53Z</td>\n",
       "      <td>2017-07-18T23:52:58Z</td>\n",
       "      <td>169 mm x 117 mm x 9.1 mm</td>\n",
       "      <td>NaN</td>\n",
       "      <td>kindlepaperwhite/b00qjdu3ky</td>\n",
       "      <td>...</td>\n",
       "      <td>5.0</td>\n",
       "      <td>https://www.amazon.com/Kindle-Paperwhite-High-...</td>\n",
       "      <td>I have to say upfront - I don't like coroporat...</td>\n",
       "      <td>I LOVE IT</td>\n",
       "      <td>NaN</td>\n",
       "      <td>NaN</td>\n",
       "      <td>Miljan David Tanic</td>\n",
       "      <td>NaN</td>\n",
       "      <td>NaN</td>\n",
       "      <td>205 grams</td>\n",
       "    </tr>\n",
       "  </tbody>\n",
       "</table>\n",
       "<p>5 rows × 27 columns</p>\n",
       "</div>"
      ],
      "text/plain": [
       "                     id       asins   brand                  categories  \\\n",
       "0  AVpe7AsMilAPnD_xQ78G  B00QJDU3KY  Amazon  Amazon Devices,mazon.co.uk   \n",
       "1  AVpe7AsMilAPnD_xQ78G  B00QJDU3KY  Amazon  Amazon Devices,mazon.co.uk   \n",
       "2  AVpe7AsMilAPnD_xQ78G  B00QJDU3KY  Amazon  Amazon Devices,mazon.co.uk   \n",
       "3  AVpe7AsMilAPnD_xQ78G  B00QJDU3KY  Amazon  Amazon Devices,mazon.co.uk   \n",
       "4  AVpe7AsMilAPnD_xQ78G  B00QJDU3KY  Amazon  Amazon Devices,mazon.co.uk   \n",
       "\n",
       "  colors             dateAdded           dateUpdated  \\\n",
       "0    NaN  2016-03-08T20:21:53Z  2017-07-18T23:52:58Z   \n",
       "1    NaN  2016-03-08T20:21:53Z  2017-07-18T23:52:58Z   \n",
       "2    NaN  2016-03-08T20:21:53Z  2017-07-18T23:52:58Z   \n",
       "3    NaN  2016-03-08T20:21:53Z  2017-07-18T23:52:58Z   \n",
       "4    NaN  2016-03-08T20:21:53Z  2017-07-18T23:52:58Z   \n",
       "\n",
       "                  dimension  ean                         keys    ...      \\\n",
       "0  169 mm x 117 mm x 9.1 mm  NaN  kindlepaperwhite/b00qjdu3ky    ...       \n",
       "1  169 mm x 117 mm x 9.1 mm  NaN  kindlepaperwhite/b00qjdu3ky    ...       \n",
       "2  169 mm x 117 mm x 9.1 mm  NaN  kindlepaperwhite/b00qjdu3ky    ...       \n",
       "3  169 mm x 117 mm x 9.1 mm  NaN  kindlepaperwhite/b00qjdu3ky    ...       \n",
       "4  169 mm x 117 mm x 9.1 mm  NaN  kindlepaperwhite/b00qjdu3ky    ...       \n",
       "\n",
       "  Score                                 reviews.sourceURLs  \\\n",
       "0   5.0  https://www.amazon.com/Kindle-Paperwhite-High-...   \n",
       "1   5.0  https://www.amazon.com/Kindle-Paperwhite-High-...   \n",
       "2   4.0  https://www.amazon.com/Kindle-Paperwhite-High-...   \n",
       "3   5.0  https://www.amazon.com/Kindle-Paperwhite-High-...   \n",
       "4   5.0  https://www.amazon.com/Kindle-Paperwhite-High-...   \n",
       "\n",
       "                                        reviews.text  \\\n",
       "0  I initially had trouble deciding between the p...   \n",
       "1  Allow me to preface this with a little history...   \n",
       "2  I am enjoying it so far. Great for reading. Ha...   \n",
       "3  I bought one of the first Paperwhites and have...   \n",
       "4  I have to say upfront - I don't like coroporat...   \n",
       "\n",
       "                                reviews.title reviews.userCity  \\\n",
       "0              Paperwhite voyage, no regrets!              NaN   \n",
       "1           One Simply Could Not Ask For More              NaN   \n",
       "2  Great for those that just want an e-reader              NaN   \n",
       "3                    Love / Hate relationship              NaN   \n",
       "4                                   I LOVE IT              NaN   \n",
       "\n",
       "  reviews.userProvince    reviews.username  sizes upc     weight  \n",
       "0                  NaN          Cristina M    NaN NaN  205 grams  \n",
       "1                  NaN               Ricky    NaN NaN  205 grams  \n",
       "2                  NaN       Tedd Gardiner    NaN NaN  205 grams  \n",
       "3                  NaN              Dougal    NaN NaN  205 grams  \n",
       "4                  NaN  Miljan David Tanic    NaN NaN  205 grams  \n",
       "\n",
       "[5 rows x 27 columns]"
      ]
     },
     "execution_count": 2,
     "metadata": {},
     "output_type": "execute_result"
    }
   ],
   "source": [
    "data = pd.read_csv(\"7817_1.csv\")\n",
    "data.head()"
   ]
  },
  {
   "cell_type": "code",
   "execution_count": 3,
   "metadata": {
    "ExecuteTime": {
     "end_time": "2019-09-22T07:42:27.366061Z",
     "start_time": "2019-09-22T07:42:27.361074Z"
    },
    "collapsed": true
   },
   "outputs": [],
   "source": [
    "df = data[[\"reviews.text\",\"Score\"]]\n",
    "#we keep the columns we want for the analysis"
   ]
  },
  {
   "cell_type": "code",
   "execution_count": 4,
   "metadata": {
    "ExecuteTime": {
     "end_time": "2019-09-22T07:42:28.180767Z",
     "start_time": "2019-09-22T07:42:28.172771Z"
    }
   },
   "outputs": [
    {
     "data": {
      "text/html": [
       "<div>\n",
       "<style>\n",
       "    .dataframe thead tr:only-child th {\n",
       "        text-align: right;\n",
       "    }\n",
       "\n",
       "    .dataframe thead th {\n",
       "        text-align: left;\n",
       "    }\n",
       "\n",
       "    .dataframe tbody tr th {\n",
       "        vertical-align: top;\n",
       "    }\n",
       "</style>\n",
       "<table border=\"1\" class=\"dataframe\">\n",
       "  <thead>\n",
       "    <tr style=\"text-align: right;\">\n",
       "      <th></th>\n",
       "      <th>reviews.text</th>\n",
       "      <th>Score</th>\n",
       "    </tr>\n",
       "  </thead>\n",
       "  <tbody>\n",
       "    <tr>\n",
       "      <th>0</th>\n",
       "      <td>I initially had trouble deciding between the p...</td>\n",
       "      <td>5.0</td>\n",
       "    </tr>\n",
       "    <tr>\n",
       "      <th>1</th>\n",
       "      <td>Allow me to preface this with a little history...</td>\n",
       "      <td>5.0</td>\n",
       "    </tr>\n",
       "    <tr>\n",
       "      <th>2</th>\n",
       "      <td>I am enjoying it so far. Great for reading. Ha...</td>\n",
       "      <td>4.0</td>\n",
       "    </tr>\n",
       "    <tr>\n",
       "      <th>3</th>\n",
       "      <td>I bought one of the first Paperwhites and have...</td>\n",
       "      <td>5.0</td>\n",
       "    </tr>\n",
       "    <tr>\n",
       "      <th>4</th>\n",
       "      <td>I have to say upfront - I don't like coroporat...</td>\n",
       "      <td>5.0</td>\n",
       "    </tr>\n",
       "  </tbody>\n",
       "</table>\n",
       "</div>"
      ],
      "text/plain": [
       "                                        reviews.text  Score\n",
       "0  I initially had trouble deciding between the p...    5.0\n",
       "1  Allow me to preface this with a little history...    5.0\n",
       "2  I am enjoying it so far. Great for reading. Ha...    4.0\n",
       "3  I bought one of the first Paperwhites and have...    5.0\n",
       "4  I have to say upfront - I don't like coroporat...    5.0"
      ]
     },
     "execution_count": 4,
     "metadata": {},
     "output_type": "execute_result"
    }
   ],
   "source": [
    "df.head()"
   ]
  },
  {
   "cell_type": "code",
   "execution_count": 5,
   "metadata": {
    "ExecuteTime": {
     "end_time": "2019-09-22T07:42:29.411355Z",
     "start_time": "2019-09-22T07:42:29.401360Z"
    }
   },
   "outputs": [
    {
     "name": "stdout",
     "output_type": "stream",
     "text": [
      "<class 'pandas.core.frame.DataFrame'>\n",
      "RangeIndex: 1177 entries, 0 to 1176\n",
      "Data columns (total 2 columns):\n",
      "reviews.text    1177 non-null object\n",
      "Score           1177 non-null float64\n",
      "dtypes: float64(1), object(1)\n",
      "memory usage: 18.5+ KB\n"
     ]
    }
   ],
   "source": [
    "df=df[df[\"Score\"].isnull()!=True]\n",
    "df.index.names = ['old_index']\n",
    "df = df.reset_index()\n",
    "df = df.drop(['old_index'], axis=1)\n",
    "df.info()"
   ]
  },
  {
   "cell_type": "code",
   "execution_count": 6,
   "metadata": {
    "ExecuteTime": {
     "end_time": "2019-09-22T07:42:30.870266Z",
     "start_time": "2019-09-22T07:42:30.863271Z"
    }
   },
   "outputs": [
    {
     "data": {
      "text/plain": [
       "5.0    741\n",
       "4.0    236\n",
       "3.0    124\n",
       "1.0     42\n",
       "2.0     34\n",
       "Name: Score, dtype: int64"
      ]
     },
     "execution_count": 6,
     "metadata": {},
     "output_type": "execute_result"
    }
   ],
   "source": [
    "df.Score.value_counts()"
   ]
  },
  {
   "cell_type": "code",
   "execution_count": 8,
   "metadata": {
    "ExecuteTime": {
     "end_time": "2019-09-22T07:42:34.430437Z",
     "start_time": "2019-09-22T07:42:34.411438Z"
    }
   },
   "outputs": [],
   "source": [
    "df.Score[df['Score']==5.0] = \"Positive\"\n",
    "df.Score[df['Score']==4.0] = \"Positive\"\n",
    "df.Score[df['Score']==3.0] = \"Neutral\"\n",
    "df.Score[df['Score']==2.0] = \"Negative\"\n",
    "df.Score[df['Score']==1.0] = \"Negative\""
   ]
  },
  {
   "cell_type": "code",
   "execution_count": 9,
   "metadata": {
    "ExecuteTime": {
     "end_time": "2019-09-22T07:42:36.818608Z",
     "start_time": "2019-09-22T07:42:36.810795Z"
    }
   },
   "outputs": [
    {
     "data": {
      "text/html": [
       "<div>\n",
       "<style>\n",
       "    .dataframe thead tr:only-child th {\n",
       "        text-align: right;\n",
       "    }\n",
       "\n",
       "    .dataframe thead th {\n",
       "        text-align: left;\n",
       "    }\n",
       "\n",
       "    .dataframe tbody tr th {\n",
       "        vertical-align: top;\n",
       "    }\n",
       "</style>\n",
       "<table border=\"1\" class=\"dataframe\">\n",
       "  <thead>\n",
       "    <tr style=\"text-align: right;\">\n",
       "      <th></th>\n",
       "      <th>reviews.text</th>\n",
       "      <th>Score</th>\n",
       "    </tr>\n",
       "  </thead>\n",
       "  <tbody>\n",
       "    <tr>\n",
       "      <th>0</th>\n",
       "      <td>I initially had trouble deciding between the p...</td>\n",
       "      <td>Positive</td>\n",
       "    </tr>\n",
       "    <tr>\n",
       "      <th>1</th>\n",
       "      <td>Allow me to preface this with a little history...</td>\n",
       "      <td>Positive</td>\n",
       "    </tr>\n",
       "    <tr>\n",
       "      <th>2</th>\n",
       "      <td>I am enjoying it so far. Great for reading. Ha...</td>\n",
       "      <td>Positive</td>\n",
       "    </tr>\n",
       "    <tr>\n",
       "      <th>3</th>\n",
       "      <td>I bought one of the first Paperwhites and have...</td>\n",
       "      <td>Positive</td>\n",
       "    </tr>\n",
       "    <tr>\n",
       "      <th>4</th>\n",
       "      <td>I have to say upfront - I don't like coroporat...</td>\n",
       "      <td>Positive</td>\n",
       "    </tr>\n",
       "  </tbody>\n",
       "</table>\n",
       "</div>"
      ],
      "text/plain": [
       "                                        reviews.text     Score\n",
       "0  I initially had trouble deciding between the p...  Positive\n",
       "1  Allow me to preface this with a little history...  Positive\n",
       "2  I am enjoying it so far. Great for reading. Ha...  Positive\n",
       "3  I bought one of the first Paperwhites and have...  Positive\n",
       "4  I have to say upfront - I don't like coroporat...  Positive"
      ]
     },
     "execution_count": 9,
     "metadata": {},
     "output_type": "execute_result"
    }
   ],
   "source": [
    "df.head()"
   ]
  },
  {
   "cell_type": "code",
   "execution_count": 10,
   "metadata": {
    "ExecuteTime": {
     "end_time": "2019-09-22T07:42:40.247859Z",
     "start_time": "2019-09-22T07:42:40.229870Z"
    }
   },
   "outputs": [
    {
     "data": {
      "text/plain": [
       "Positive    977\n",
       "Neutral     977\n",
       "Negative    977\n",
       "Name: Score, dtype: int64"
      ]
     },
     "execution_count": 10,
     "metadata": {},
     "output_type": "execute_result"
    }
   ],
   "source": [
    "from sklearn.utils import resample\n",
    "\n",
    "pos_class = df[df['Score']==\"Positive\"]\n",
    "neut_class = df[df['Score']==\"Neutral\"]\n",
    "neg_class = df[df['Score']==\"Negative\"]\n",
    "\n",
    "#same number of samples as majority classes\n",
    "neut_class_resampled = resample(neut_class,replace=True, n_samples=pos_class.Score.count(), random_state=1) \n",
    "neg_class_resampled = resample(neg_class,replace=True, n_samples=pos_class.Score.count(), random_state=1) \n",
    "\n",
    "data_resampled = pd.concat([pos_class, neut_class_resampled, neg_class_resampled])\n",
    "\n",
    "data_resampled['Score'].value_counts()"
   ]
  },
  {
   "cell_type": "code",
   "execution_count": 11,
   "metadata": {
    "ExecuteTime": {
     "end_time": "2019-09-22T07:42:41.682684Z",
     "start_time": "2019-09-22T07:42:41.679700Z"
    },
    "collapsed": true
   },
   "outputs": [],
   "source": [
    "df = data_resampled"
   ]
  },
  {
   "cell_type": "code",
   "execution_count": 12,
   "metadata": {
    "ExecuteTime": {
     "end_time": "2019-09-22T07:42:42.338455Z",
     "start_time": "2019-09-22T07:42:42.330452Z"
    }
   },
   "outputs": [
    {
     "name": "stdout",
     "output_type": "stream",
     "text": [
      "<class 'pandas.core.frame.DataFrame'>\n",
      "RangeIndex: 2931 entries, 0 to 2930\n",
      "Data columns (total 2 columns):\n",
      "reviews.text    2931 non-null object\n",
      "Score           2931 non-null object\n",
      "dtypes: object(2)\n",
      "memory usage: 45.9+ KB\n"
     ]
    }
   ],
   "source": [
    "df.index.names = ['old_index']\n",
    "df = df.reset_index()\n",
    "df = df.drop(['old_index'], axis=1)\n",
    "df.info()"
   ]
  },
  {
   "cell_type": "code",
   "execution_count": 13,
   "metadata": {
    "ExecuteTime": {
     "end_time": "2019-09-22T07:42:43.333772Z",
     "start_time": "2019-09-22T07:42:43.329789Z"
    },
    "collapsed": true
   },
   "outputs": [],
   "source": [
    "df['length'] = df['reviews.text'].str.len()"
   ]
  },
  {
   "cell_type": "code",
   "execution_count": 14,
   "metadata": {
    "ExecuteTime": {
     "end_time": "2019-09-22T07:42:44.006637Z",
     "start_time": "2019-09-22T07:42:43.789988Z"
    }
   },
   "outputs": [
    {
     "data": {
      "image/png": "[encoded data removed]",
      "text/plain": [
       "<matplotlib.figure.Figure at 0x1b31b833da0>"
      ]
     },
     "metadata": {},
     "output_type": "display_data"
    }
   ],
   "source": [
    "plt.figure(figsize=(12.8,6))\n",
    "sns.boxplot(data=df, x='Score', y='length');"
   ]
  },
  {
   "cell_type": "code",
   "execution_count": 15,
   "metadata": {
    "ExecuteTime": {
     "end_time": "2019-09-22T07:42:45.167910Z",
     "start_time": "2019-09-22T07:42:44.990001Z"
    }
   },
   "outputs": [
    {
     "data": {
      "text/plain": [
       "Text(0.5,1,'News length distribution')"
      ]
     },
     "execution_count": 15,
     "metadata": {},
     "output_type": "execute_result"
    },
    {
     "data": {
      "image/png": "[encoded data removed]",
      "text/plain": [
       "<matplotlib.figure.Figure at 0x1b31b8336d8>"
      ]
     },
     "metadata": {},
     "output_type": "display_data"
    }
   ],
   "source": [
    "plt.figure(figsize=(12.8,6))\n",
    "sns.distplot(df['length']).set_title('News length distribution')"
   ]
  },
  {
   "cell_type": "code",
   "execution_count": 16,
   "metadata": {
    "ExecuteTime": {
     "end_time": "2019-09-22T07:42:48.347319Z",
     "start_time": "2019-09-22T07:42:48.339314Z"
    }
   },
   "outputs": [
    {
     "data": {
      "text/plain": [
       "count     2931.000000\n",
       "mean       763.690549\n",
       "std       1047.329180\n",
       "min          3.000000\n",
       "25%        156.000000\n",
       "50%        384.000000\n",
       "75%       1611.000000\n",
       "max      19739.000000\n",
       "Name: length, dtype: float64"
      ]
     },
     "execution_count": 16,
     "metadata": {},
     "output_type": "execute_result"
    }
   ],
   "source": [
    "df['length'].describe()"
   ]
  },
  {
   "cell_type": "code",
   "execution_count": 17,
   "metadata": {
    "ExecuteTime": {
     "end_time": "2019-09-22T07:42:49.242699Z",
     "start_time": "2019-09-22T07:42:49.238700Z"
    },
    "collapsed": true
   },
   "outputs": [],
   "source": [
    "quantile_95 = df['length'].quantile(0.95)\n",
    "df_95 = df[df['length'] < quantile_95]"
   ]
  },
  {
   "cell_type": "code",
   "execution_count": 18,
   "metadata": {
    "ExecuteTime": {
     "end_time": "2019-09-22T07:42:49.912230Z",
     "start_time": "2019-09-22T07:42:49.782305Z"
    }
   },
   "outputs": [
    {
     "data": {
      "image/png": "[encoded data removed]",
      "text/plain": [
       "<matplotlib.figure.Figure at 0x1b31c0a7978>"
      ]
     },
     "metadata": {},
     "output_type": "display_data"
    }
   ],
   "source": [
    "plt.figure(figsize=(12.8,6))\n",
    "sns.boxplot(data=df_95, x='Score', y='length');"
   ]
  },
  {
   "cell_type": "code",
   "execution_count": 19,
   "metadata": {
    "ExecuteTime": {
     "end_time": "2019-09-22T07:42:51.510296Z",
     "start_time": "2019-09-22T07:42:51.369392Z"
    }
   },
   "outputs": [
    {
     "data": {
      "text/plain": [
       "Text(0.5,1,'News length distribution')"
      ]
     },
     "execution_count": 19,
     "metadata": {},
     "output_type": "execute_result"
    },
    {
     "data": {
      "image/png": "[encoded data removed]",
      "text/plain": [
       "<matplotlib.figure.Figure at 0x1b31c01ea58>"
      ]
     },
     "metadata": {},
     "output_type": "display_data"
    }
   ],
   "source": [
    "plt.figure(figsize=(12.8,6))\n",
    "sns.distplot(df_95['length']).set_title('News length distribution')"
   ]
  },
  {
   "cell_type": "code",
   "execution_count": 20,
   "metadata": {
    "ExecuteTime": {
     "end_time": "2019-09-22T07:42:52.686214Z",
     "start_time": "2019-09-22T07:42:52.549293Z"
    }
   },
   "outputs": [
    {
     "data": {
      "text/plain": [
       "Text(0.5,1,'Positive reviews length distribution')"
      ]
     },
     "execution_count": 20,
     "metadata": {},
     "output_type": "execute_result"
    },
    {
     "data": {
      "image/png": "[encoded data removed]",
      "text/plain": [
       "<matplotlib.figure.Figure at 0x1b31c20d8d0>"
      ]
     },
     "metadata": {},
     "output_type": "display_data"
    }
   ],
   "source": [
    "positive_reviews = df_95[\"Score\"]==\"Positive\"\n",
    "plt.figure(figsize=(12.8,6))\n",
    "sns.distplot(df_95.length[positive_reviews]).set_title('Positive reviews length distribution')"
   ]
  },
  {
   "cell_type": "code",
   "execution_count": 21,
   "metadata": {
    "ExecuteTime": {
     "end_time": "2019-09-22T07:42:53.914319Z",
     "start_time": "2019-09-22T07:42:53.769386Z"
    }
   },
   "outputs": [
    {
     "data": {
      "text/plain": [
       "Text(0.5,1,'Negative reviews length distribution')"
      ]
     },
     "execution_count": 21,
     "metadata": {},
     "output_type": "execute_result"
    },
    {
     "data": {
      "image/png": "[encoded data removed]",
      "text/plain": [
       "<matplotlib.figure.Figure at 0x1b31c2083c8>"
      ]
     },
     "metadata": {},
     "output_type": "display_data"
    }
   ],
   "source": [
    "negative_reviews = df_95[\"Score\"]==\"Negative\"\n",
    "plt.figure(figsize=(12.8,6))\n",
    "sns.distplot(df_95.length[negative_reviews]).set_title('Negative reviews length distribution')"
   ]
  },
  {
   "cell_type": "code",
   "execution_count": 22,
   "metadata": {
    "ExecuteTime": {
     "end_time": "2019-09-22T07:42:56.857239Z",
     "start_time": "2019-09-22T07:42:56.718511Z"
    }
   },
   "outputs": [
    {
     "data": {
      "text/plain": [
       "Text(0.5,1,'Neutral reviews length distribution')"
      ]
     },
     "execution_count": 22,
     "metadata": {},
     "output_type": "execute_result"
    },
    {
     "data": {
      "image/png": "[encoded data removed]",
      "text/plain": [
       "<matplotlib.figure.Figure at 0x1b31c32fa90>"
      ]
     },
     "metadata": {},
     "output_type": "display_data"
    }
   ],
   "source": [
    "neutral_reviews = df_95[\"Score\"]==\"Neutral\"\n",
    "plt.figure(figsize=(12.8,6))\n",
    "sns.distplot(df_95.length[neutral_reviews]).set_title('Neutral reviews length distribution')"
   ]
  },
  {
   "cell_type": "markdown",
   "metadata": {},
   "source": [
    "# Text cleaning and preparation\n",
    "\n",
    "\n",
    "## Special character cleaning¶\n"
   ]
  },
  {
   "cell_type": "code",
   "execution_count": 23,
   "metadata": {
    "ExecuteTime": {
     "end_time": "2019-09-22T07:42:59.999804Z",
     "start_time": "2019-09-22T07:42:59.984827Z"
    },
    "collapsed": true
   },
   "outputs": [],
   "source": [
    "#\\r,\\n removal\n",
    "df['reviews'] = df['reviews.text'].str.replace(\"\\r\", \" \")\n",
    "df['reviews'] = df['reviews'].str.replace(\"\\n\", \" \")\n",
    "df['reviews'] = df['reviews'].str.replace(\"    \", \" \")"
   ]
  },
  {
   "cell_type": "code",
   "execution_count": 24,
   "metadata": {
    "ExecuteTime": {
     "end_time": "2019-09-22T07:43:00.545911Z",
     "start_time": "2019-09-22T07:43:00.540898Z"
    },
    "collapsed": true
   },
   "outputs": [],
   "source": [
    "df['reviews'] = df['reviews'].str.replace('\"', '')"
   ]
  },
  {
   "cell_type": "markdown",
   "metadata": {},
   "source": [
    "## Upcase/Downcase"
   ]
  },
  {
   "cell_type": "code",
   "execution_count": 25,
   "metadata": {
    "ExecuteTime": {
     "end_time": "2019-09-22T07:43:01.933708Z",
     "start_time": "2019-09-22T07:43:01.925713Z"
    },
    "collapsed": true
   },
   "outputs": [],
   "source": [
    "#we downcase cause Thomas and thomas is the same word\n",
    "df['reviews'] = df['reviews'].str.lower()"
   ]
  },
  {
   "cell_type": "markdown",
   "metadata": {},
   "source": [
    "## Punctuation Signs\n"
   ]
  },
  {
   "cell_type": "code",
   "execution_count": 26,
   "metadata": {
    "ExecuteTime": {
     "end_time": "2019-09-22T07:43:03.895622Z",
     "start_time": "2019-09-22T07:43:03.870637Z"
    },
    "collapsed": true
   },
   "outputs": [],
   "source": [
    "#punctuation signs removal cause they wont affect the sentiment prediction\n",
    "punctuation_signs = list(\"?:!.,;\")\n",
    "df['reviews'] = df['reviews']\n",
    "\n",
    "for punct_sign in punctuation_signs:\n",
    "    df['reviews'] = df['reviews'].str.replace(punct_sign, '')"
   ]
  },
  {
   "cell_type": "markdown",
   "metadata": {},
   "source": [
    "## Possessive pronouns"
   ]
  },
  {
   "cell_type": "code",
   "execution_count": 27,
   "metadata": {
    "ExecuteTime": {
     "end_time": "2019-09-22T07:43:05.597156Z",
     "start_time": "2019-09-22T07:43:05.588176Z"
    },
    "collapsed": true
   },
   "outputs": [],
   "source": [
    "#we remove possessive pronouns\n",
    "df['reviews'] = df['reviews'].str.replace(\"'s\", \"\")"
   ]
  },
  {
   "cell_type": "markdown",
   "metadata": {},
   "source": [
    "## Stemming and Lemmatization"
   ]
  },
  {
   "cell_type": "code",
   "execution_count": 28,
   "metadata": {
    "ExecuteTime": {
     "end_time": "2019-09-22T07:43:08.984189Z",
     "start_time": "2019-09-22T07:43:07.277616Z"
    }
   },
   "outputs": [
    {
     "name": "stdout",
     "output_type": "stream",
     "text": [
      "[nltk_data] Downloading package punkt to\n",
      "[nltk_data]     C:\\Users\\ferfi\\AppData\\Roaming\\nltk_data...\n",
      "[nltk_data]   Package punkt is already up-to-date!\n",
      "[nltk_data] Downloading package wordnet to\n",
      "[nltk_data]     C:\\Users\\ferfi\\AppData\\Roaming\\nltk_data...\n",
      "[nltk_data]   Package wordnet is already up-to-date!\n"
     ]
    },
    {
     "data": {
      "text/plain": [
       "True"
      ]
     },
     "execution_count": 28,
     "metadata": {},
     "output_type": "execute_result"
    }
   ],
   "source": [
    "nltk.download('punkt')\n",
    "nltk.download('wordnet')"
   ]
  },
  {
   "cell_type": "code",
   "execution_count": 29,
   "metadata": {
    "ExecuteTime": {
     "end_time": "2019-09-22T07:43:10.012554Z",
     "start_time": "2019-09-22T07:43:10.008557Z"
    },
    "collapsed": true
   },
   "outputs": [],
   "source": [
    "#save lemma into an object\n",
    "wordnet_lemmatizer = WordNetLemmatizer()"
   ]
  },
  {
   "cell_type": "code",
   "execution_count": 30,
   "metadata": {
    "ExecuteTime": {
     "end_time": "2019-09-22T07:43:10.985151Z",
     "start_time": "2019-09-22T07:43:10.977156Z"
    }
   },
   "outputs": [
    {
     "data": {
      "text/html": [
       "<div>\n",
       "<style>\n",
       "    .dataframe thead tr:only-child th {\n",
       "        text-align: right;\n",
       "    }\n",
       "\n",
       "    .dataframe thead th {\n",
       "        text-align: left;\n",
       "    }\n",
       "\n",
       "    .dataframe tbody tr th {\n",
       "        vertical-align: top;\n",
       "    }\n",
       "</style>\n",
       "<table border=\"1\" class=\"dataframe\">\n",
       "  <thead>\n",
       "    <tr style=\"text-align: right;\">\n",
       "      <th></th>\n",
       "      <th>reviews.text</th>\n",
       "      <th>Score</th>\n",
       "      <th>length</th>\n",
       "      <th>reviews</th>\n",
       "    </tr>\n",
       "  </thead>\n",
       "  <tbody>\n",
       "    <tr>\n",
       "      <th>0</th>\n",
       "      <td>I initially had trouble deciding between the p...</td>\n",
       "      <td>Positive</td>\n",
       "      <td>1064</td>\n",
       "      <td>i initially had trouble deciding between the p...</td>\n",
       "    </tr>\n",
       "    <tr>\n",
       "      <th>1</th>\n",
       "      <td>Allow me to preface this with a little history...</td>\n",
       "      <td>Positive</td>\n",
       "      <td>1424</td>\n",
       "      <td>allow me to preface this with a little history...</td>\n",
       "    </tr>\n",
       "    <tr>\n",
       "      <th>2</th>\n",
       "      <td>I am enjoying it so far. Great for reading. Ha...</td>\n",
       "      <td>Positive</td>\n",
       "      <td>182</td>\n",
       "      <td>i am enjoying it so far great for reading had ...</td>\n",
       "    </tr>\n",
       "    <tr>\n",
       "      <th>3</th>\n",
       "      <td>I bought one of the first Paperwhites and have...</td>\n",
       "      <td>Positive</td>\n",
       "      <td>1671</td>\n",
       "      <td>i bought one of the first paperwhites and have...</td>\n",
       "    </tr>\n",
       "    <tr>\n",
       "      <th>4</th>\n",
       "      <td>I have to say upfront - I don't like coroporat...</td>\n",
       "      <td>Positive</td>\n",
       "      <td>1916</td>\n",
       "      <td>i have to say upfront - i don't like coroporat...</td>\n",
       "    </tr>\n",
       "  </tbody>\n",
       "</table>\n",
       "</div>"
      ],
      "text/plain": [
       "                                        reviews.text     Score  length  \\\n",
       "0  I initially had trouble deciding between the p...  Positive    1064   \n",
       "1  Allow me to preface this with a little history...  Positive    1424   \n",
       "2  I am enjoying it so far. Great for reading. Ha...  Positive     182   \n",
       "3  I bought one of the first Paperwhites and have...  Positive    1671   \n",
       "4  I have to say upfront - I don't like coroporat...  Positive    1916   \n",
       "\n",
       "                                             reviews  \n",
       "0  i initially had trouble deciding between the p...  \n",
       "1  allow me to preface this with a little history...  \n",
       "2  i am enjoying it so far great for reading had ...  \n",
       "3  i bought one of the first paperwhites and have...  \n",
       "4  i have to say upfront - i don't like coroporat...  "
      ]
     },
     "execution_count": 30,
     "metadata": {},
     "output_type": "execute_result"
    }
   ],
   "source": [
    "df.head()"
   ]
  },
  {
   "cell_type": "code",
   "execution_count": 31,
   "metadata": {
    "ExecuteTime": {
     "end_time": "2019-09-22T07:43:16.673020Z",
     "start_time": "2019-09-22T07:43:13.367088Z"
    },
    "collapsed": true
   },
   "outputs": [],
   "source": [
    "#In order to lemmatize, we have to iterate through every word\n",
    "nrows = len(df)\n",
    "lemmatized_text_list = []\n",
    "\n",
    "for row in range(0, nrows):\n",
    "    \n",
    "    # Create an empty list containing lemmatized words\n",
    "    lemmatized_list = []\n",
    "    \n",
    "    # Save the text and its words into an object\n",
    "    text = df.loc[row]['reviews']\n",
    "    text_words = text.split(\" \")\n",
    "\n",
    "    # Iterate through every word to lemmatize\n",
    "    for word in text_words:\n",
    "        lemmatized_list.append(wordnet_lemmatizer.lemmatize(word, pos=\"v\"))\n",
    "        \n",
    "    # Join the list\n",
    "    lemmatized_text = \" \".join(lemmatized_list)\n",
    "    \n",
    "    # Append to the list containing the texts\n",
    "    lemmatized_text_list.append(lemmatized_text)"
   ]
  },
  {
   "cell_type": "code",
   "execution_count": 32,
   "metadata": {
    "ExecuteTime": {
     "end_time": "2019-09-22T07:43:17.450136Z",
     "start_time": "2019-09-22T07:43:17.447138Z"
    },
    "collapsed": true
   },
   "outputs": [],
   "source": [
    "df['reviews'] = lemmatized_text_list"
   ]
  },
  {
   "cell_type": "code",
   "execution_count": 33,
   "metadata": {
    "ExecuteTime": {
     "end_time": "2019-09-22T07:43:18.595082Z",
     "start_time": "2019-09-22T07:43:18.587087Z"
    }
   },
   "outputs": [
    {
     "name": "stdout",
     "output_type": "stream",
     "text": [
      "I initially had trouble deciding between the paperwhite and the voyage because reviews more or less said the same thing: the paperwhite is great, but if you have spending money, go for the voyage.Fortunately, I had friends who owned each, so I ended up buying the paperwhite on this basis: both models now have 300 ppi, so the 80 dollar jump turns out pricey the voyage's page press isn't always sensitive, and if you are fine with a specific setting, you don't need auto light adjustment).It's been a week and I am loving my paperwhite, no regrets! The touch screen is receptive and easy to use, and I keep the light at a specific setting regardless of the time of day. (In any case, it's not hard to change the setting either, as you'll only be changing the light level at a certain time of day, not every now and then while reading).Also glad that I went for the international shipping option with Amazon. Extra expense, but delivery was on time, with tracking, and I didnt need to worry about customs, which I may have if I used a third party shipping service.\n",
      "\n",
      "\n",
      "Transformed to:\n",
      "\n",
      "\n",
      "i initially have trouble decide between the paperwhite and the voyage because review more or less say the same thing the paperwhite be great but if you have spend money go for the voyagefortunately i have friends who own each so i end up buy the paperwhite on this basis both model now have 300 ppi so the 80 dollar jump turn out pricey the voyage page press isn't always sensitive and if you be fine with a specific set you don't need auto light adjustment)it be a week and i be love my paperwhite no regret the touch screen be receptive and easy to use and i keep the light at a specific set regardless of the time of day (in any case it not hard to change the set either as you'll only be change the light level at a certain time of day not every now and then while reading)also glad that i go for the international ship option with amazon extra expense but delivery be on time with track and i didnt need to worry about customs which i may have if i use a third party ship service\n"
     ]
    }
   ],
   "source": [
    "for i in range(df.shape[0]):\n",
    "    print(df[\"reviews.text\"][i])\n",
    "    print(\"\\n\")\n",
    "    print(\"Transformed to:\")\n",
    "    print(\"\\n\")\n",
    "    print(df.reviews[i])\n",
    "    break"
   ]
  },
  {
   "cell_type": "markdown",
   "metadata": {},
   "source": [
    "## Stop Words"
   ]
  },
  {
   "cell_type": "code",
   "execution_count": 34,
   "metadata": {
    "ExecuteTime": {
     "end_time": "2019-09-22T07:43:23.175279Z",
     "start_time": "2019-09-22T07:43:23.157289Z"
    }
   },
   "outputs": [
    {
     "name": "stdout",
     "output_type": "stream",
     "text": [
      "[nltk_data] Downloading package stopwords to\n",
      "[nltk_data]     C:\\Users\\ferfi\\AppData\\Roaming\\nltk_data...\n",
      "[nltk_data]   Package stopwords is already up-to-date!\n"
     ]
    },
    {
     "data": {
      "text/plain": [
       "True"
      ]
     },
     "execution_count": 34,
     "metadata": {},
     "output_type": "execute_result"
    }
   ],
   "source": [
    "# Downloading the stop words list\n",
    "nltk.download('stopwords')"
   ]
  },
  {
   "cell_type": "code",
   "execution_count": 35,
   "metadata": {
    "ExecuteTime": {
     "end_time": "2019-09-22T07:43:27.093098Z",
     "start_time": "2019-09-22T07:43:27.086103Z"
    },
    "collapsed": true
   },
   "outputs": [],
   "source": [
    "stop_words = list(stopwords.words('english'))\n",
    "#for example\n",
    "#i love cooking = example, word = i\n",
    "#so after the following code in the end we will have output = love cooking"
   ]
  },
  {
   "cell_type": "code",
   "execution_count": 36,
   "metadata": {
    "ExecuteTime": {
     "end_time": "2019-09-22T07:43:35.396893Z",
     "start_time": "2019-09-22T07:43:28.386090Z"
    },
    "collapsed": true
   },
   "outputs": [],
   "source": [
    "df['reviews'] = df['reviews']\n",
    "\n",
    "for stop_word in stop_words:\n",
    "\n",
    "    regex_stopword = r\"\\b\" + stop_word + r\"\\b\"\n",
    "    df['reviews'] = df['reviews'].str.replace(regex_stopword, '')"
   ]
  },
  {
   "cell_type": "code",
   "execution_count": 37,
   "metadata": {
    "ExecuteTime": {
     "end_time": "2019-09-22T07:43:35.587822Z",
     "start_time": "2019-09-22T07:43:35.580811Z"
    }
   },
   "outputs": [
    {
     "name": "stdout",
     "output_type": "stream",
     "text": [
      "I initially had trouble deciding between the paperwhite and the voyage because reviews more or less said the same thing: the paperwhite is great, but if you have spending money, go for the voyage.Fortunately, I had friends who owned each, so I ended up buying the paperwhite on this basis: both models now have 300 ppi, so the 80 dollar jump turns out pricey the voyage's page press isn't always sensitive, and if you are fine with a specific setting, you don't need auto light adjustment).It's been a week and I am loving my paperwhite, no regrets! The touch screen is receptive and easy to use, and I keep the light at a specific setting regardless of the time of day. (In any case, it's not hard to change the setting either, as you'll only be changing the light level at a certain time of day, not every now and then while reading).Also glad that I went for the international shipping option with Amazon. Extra expense, but delivery was on time, with tracking, and I didnt need to worry about customs, which I may have if I used a third party shipping service.\n",
      "\n",
      "\n",
      "Transformed to:\n",
      "\n",
      "\n",
      " initially  trouble decide   paperwhite   voyage  review   less say   thing  paperwhite  great     spend money go   voyagefortunately   friends      end  buy  paperwhite   basis  model   300 ppi   80 dollar jump turn  pricey  voyage page press ' always sensitive     fine   specific set  ' need auto light adjustment)   week    love  paperwhite  regret  touch screen  receptive  easy  use   keep  light   specific set regardless   time  day (  case   hard  change  set either  '   change  light level   certain time  day  every     reading)also glad   go   international ship option  amazon extra expense  delivery   time  track   didnt need  worry  customs   may    use  third party ship service\n"
     ]
    }
   ],
   "source": [
    "for i in range(df.shape[0]):\n",
    "    print(df[\"reviews.text\"][i])\n",
    "    print(\"\\n\")\n",
    "    print(\"Transformed to:\")\n",
    "    print(\"\\n\")\n",
    "    print(df.reviews[i])\n",
    "    break"
   ]
  },
  {
   "cell_type": "markdown",
   "metadata": {},
   "source": [
    "## Label Coding"
   ]
  },
  {
   "cell_type": "code",
   "execution_count": 38,
   "metadata": {
    "ExecuteTime": {
     "end_time": "2019-09-22T07:43:37.867457Z",
     "start_time": "2019-09-22T07:43:37.865459Z"
    },
    "collapsed": true
   },
   "outputs": [],
   "source": [
    "from sklearn.preprocessing import LabelEncoder"
   ]
  },
  {
   "cell_type": "code",
   "execution_count": 39,
   "metadata": {
    "ExecuteTime": {
     "end_time": "2019-09-22T07:43:39.241377Z",
     "start_time": "2019-09-22T07:43:39.235381Z"
    },
    "collapsed": true
   },
   "outputs": [],
   "source": [
    "encoder = LabelEncoder()\n",
    "\n",
    "df[\"sentiment\"] = encoder.fit_transform(df[\"Score\"])\n",
    "#we give codes to every sentiment\n",
    "#for example pos=2,neut=1,negat=0"
   ]
  },
  {
   "cell_type": "code",
   "execution_count": 44,
   "metadata": {
    "ExecuteTime": {
     "end_time": "2019-09-22T07:45:38.791851Z",
     "start_time": "2019-09-22T07:45:38.785855Z"
    }
   },
   "outputs": [
    {
     "data": {
      "text/plain": [
       "1    977\n",
       "2    977\n",
       "0    977\n",
       "Name: sentiment, dtype: int64"
      ]
     },
     "execution_count": 44,
     "metadata": {},
     "output_type": "execute_result"
    }
   ],
   "source": [
    "df['sentiment'].value_counts()"
   ]
  },
  {
   "cell_type": "code",
   "execution_count": 55,
   "metadata": {
    "ExecuteTime": {
     "end_time": "2019-09-22T07:52:33.959742Z",
     "start_time": "2019-09-22T07:52:33.937756Z"
    }
   },
   "outputs": [
    {
     "data": {
      "text/html": [
       "<div>\n",
       "<style>\n",
       "    .dataframe thead tr:only-child th {\n",
       "        text-align: right;\n",
       "    }\n",
       "\n",
       "    .dataframe thead th {\n",
       "        text-align: left;\n",
       "    }\n",
       "\n",
       "    .dataframe tbody tr th {\n",
       "        vertical-align: top;\n",
       "    }\n",
       "</style>\n",
       "<table border=\"1\" class=\"dataframe\">\n",
       "  <thead>\n",
       "    <tr style=\"text-align: right;\">\n",
       "      <th></th>\n",
       "      <th>reviews.text</th>\n",
       "      <th>Score</th>\n",
       "      <th>length</th>\n",
       "      <th>reviews</th>\n",
       "      <th>sentiment</th>\n",
       "    </tr>\n",
       "  </thead>\n",
       "  <tbody>\n",
       "    <tr>\n",
       "      <th>0</th>\n",
       "      <td>I initially had trouble deciding between the p...</td>\n",
       "      <td>Positive</td>\n",
       "      <td>1064</td>\n",
       "      <td>initially  trouble decide   paperwhite   voya...</td>\n",
       "      <td>2</td>\n",
       "    </tr>\n",
       "    <tr>\n",
       "      <th>1</th>\n",
       "      <td>Allow me to preface this with a little history...</td>\n",
       "      <td>Positive</td>\n",
       "      <td>1424</td>\n",
       "      <td>allow   preface    little history   ()  casual...</td>\n",
       "      <td>2</td>\n",
       "    </tr>\n",
       "    <tr>\n",
       "      <th>2</th>\n",
       "      <td>I am enjoying it so far. Great for reading. Ha...</td>\n",
       "      <td>Positive</td>\n",
       "      <td>182</td>\n",
       "      <td>enjoy   far great  read   original fire sinc...</td>\n",
       "      <td>2</td>\n",
       "    </tr>\n",
       "    <tr>\n",
       "      <th>3</th>\n",
       "      <td>I bought one of the first Paperwhites and have...</td>\n",
       "      <td>Positive</td>\n",
       "      <td>1671</td>\n",
       "      <td>buy one   first paperwhites     please      c...</td>\n",
       "      <td>2</td>\n",
       "    </tr>\n",
       "    <tr>\n",
       "      <th>4</th>\n",
       "      <td>I have to say upfront - I don't like coroporat...</td>\n",
       "      <td>Positive</td>\n",
       "      <td>1916</td>\n",
       "      <td>say upfront -  ' like coroporate hermetical...</td>\n",
       "      <td>2</td>\n",
       "    </tr>\n",
       "    <tr>\n",
       "      <th>5</th>\n",
       "      <td>Had older model, that you could text to speech...</td>\n",
       "      <td>Positive</td>\n",
       "      <td>223</td>\n",
       "      <td>older model   could text  speech  one ' like ...</td>\n",
       "      <td>2</td>\n",
       "    </tr>\n",
       "    <tr>\n",
       "      <th>6</th>\n",
       "      <td>This is a review of the Kindle Paperwhite laun...</td>\n",
       "      <td>Positive</td>\n",
       "      <td>10670</td>\n",
       "      <td>review   kindle paperwhite launch july 2015...</td>\n",
       "      <td>2</td>\n",
       "    </tr>\n",
       "    <tr>\n",
       "      <th>7</th>\n",
       "      <td>I love my kindle! I got one for my fiance on h...</td>\n",
       "      <td>Positive</td>\n",
       "      <td>859</td>\n",
       "      <td>love  kindle  get one   fiance   birthday  lo...</td>\n",
       "      <td>2</td>\n",
       "    </tr>\n",
       "    <tr>\n",
       "      <th>8</th>\n",
       "      <td>Vraiment bon petit appareil , lger et facile d...</td>\n",
       "      <td>Positive</td>\n",
       "      <td>157</td>\n",
       "      <td>vraiment bon petit appareil  lger et facile  e...</td>\n",
       "      <td>2</td>\n",
       "    </tr>\n",
       "    <tr>\n",
       "      <th>9</th>\n",
       "      <td>Exactly what it is supposed to be. Works great...</td>\n",
       "      <td>Positive</td>\n",
       "      <td>118</td>\n",
       "      <td>exactly    suppose   work great   love  built-...</td>\n",
       "      <td>2</td>\n",
       "    </tr>\n",
       "    <tr>\n",
       "      <th>10</th>\n",
       "      <td>Trs heureux que les livres soient sur Icloud. ...</td>\n",
       "      <td>Positive</td>\n",
       "      <td>158</td>\n",
       "      <td>trs heureux que les livres soient sur icloud a...</td>\n",
       "      <td>2</td>\n",
       "    </tr>\n",
       "    <tr>\n",
       "      <th>11</th>\n",
       "      <td>Only 4 stars because I found it very confusing...</td>\n",
       "      <td>Positive</td>\n",
       "      <td>470</td>\n",
       "      <td>4 star   find   confuse  first    kindle  fin...</td>\n",
       "      <td>2</td>\n",
       "    </tr>\n",
       "    <tr>\n",
       "      <th>12</th>\n",
       "      <td>Almost like reading a real book. Don't is cris...</td>\n",
       "      <td>Positive</td>\n",
       "      <td>281</td>\n",
       "      <td>almost like read  real book '  crisp sharp  ea...</td>\n",
       "      <td>2</td>\n",
       "    </tr>\n",
       "    <tr>\n",
       "      <th>13</th>\n",
       "      <td>I already had an original Kindle Paperwhite an...</td>\n",
       "      <td>Positive</td>\n",
       "      <td>716</td>\n",
       "      <td>already   original kindle paperwhite  love  b...</td>\n",
       "      <td>2</td>\n",
       "    </tr>\n",
       "    <tr>\n",
       "      <th>14</th>\n",
       "      <td>Received my new kindle in perfect condition an...</td>\n",
       "      <td>Positive</td>\n",
       "      <td>205</td>\n",
       "      <td>receive  new kindle  perfect condition     hap...</td>\n",
       "      <td>2</td>\n",
       "    </tr>\n",
       "    <tr>\n",
       "      <th>15</th>\n",
       "      <td>I'm a first-time Kindle owner, so I have nothi...</td>\n",
       "      <td>Positive</td>\n",
       "      <td>1661</td>\n",
       "      <td>'  first-time kindle owner    nothing  compare...</td>\n",
       "      <td>2</td>\n",
       "    </tr>\n",
       "    <tr>\n",
       "      <th>16</th>\n",
       "      <td>UPDATE NOVEMBER 2011:My review is now over a y...</td>\n",
       "      <td>Positive</td>\n",
       "      <td>1529</td>\n",
       "      <td>update november 2011my review     year old    ...</td>\n",
       "      <td>2</td>\n",
       "    </tr>\n",
       "    <tr>\n",
       "      <th>17</th>\n",
       "      <td>I'm a first-time Kindle owner, so I have nothi...</td>\n",
       "      <td>Positive</td>\n",
       "      <td>1661</td>\n",
       "      <td>'  first-time kindle owner    nothing  compare...</td>\n",
       "      <td>2</td>\n",
       "    </tr>\n",
       "    <tr>\n",
       "      <th>18</th>\n",
       "      <td>UPDATE NOVEMBER 2011:My review is now over a y...</td>\n",
       "      <td>Positive</td>\n",
       "      <td>1529</td>\n",
       "      <td>update november 2011my review     year old    ...</td>\n",
       "      <td>2</td>\n",
       "    </tr>\n",
       "    <tr>\n",
       "      <th>19</th>\n",
       "      <td>Having received my Fire TV today, I've been tr...</td>\n",
       "      <td>Positive</td>\n",
       "      <td>1727</td>\n",
       "      <td>receive  fire tv today '  try     past couple...</td>\n",
       "      <td>2</td>\n",
       "    </tr>\n",
       "    <tr>\n",
       "      <th>20</th>\n",
       "      <td>I am not a casual user of on-demand content an...</td>\n",
       "      <td>Positive</td>\n",
       "      <td>1754</td>\n",
       "      <td>casual user  -demand content  devices  try...</td>\n",
       "      <td>2</td>\n",
       "    </tr>\n",
       "    <tr>\n",
       "      <th>21</th>\n",
       "      <td>Having received my Fire TV today, I've been tr...</td>\n",
       "      <td>Positive</td>\n",
       "      <td>1727</td>\n",
       "      <td>receive  fire tv today '  try     past couple...</td>\n",
       "      <td>2</td>\n",
       "    </tr>\n",
       "    <tr>\n",
       "      <th>22</th>\n",
       "      <td>I'm your typical middle-aged woman - I don't g...</td>\n",
       "      <td>Positive</td>\n",
       "      <td>898</td>\n",
       "      <td>'  typical middle-aged woman -  ' game  '  sup...</td>\n",
       "      <td>2</td>\n",
       "    </tr>\n",
       "    <tr>\n",
       "      <th>23</th>\n",
       "      <td>I am not a casual user of on-demand content an...</td>\n",
       "      <td>Positive</td>\n",
       "      <td>1754</td>\n",
       "      <td>casual user  -demand content  devices  try...</td>\n",
       "      <td>2</td>\n",
       "    </tr>\n",
       "    <tr>\n",
       "      <th>24</th>\n",
       "      <td>An Amazon.com official commented on this revie...</td>\n",
       "      <td>Positive</td>\n",
       "      <td>439</td>\n",
       "      <td>amazoncom official comment   review( )  amazo...</td>\n",
       "      <td>2</td>\n",
       "    </tr>\n",
       "    <tr>\n",
       "      <th>25</th>\n",
       "      <td>I'm your typical middle-aged woman - I don't g...</td>\n",
       "      <td>Positive</td>\n",
       "      <td>898</td>\n",
       "      <td>'  typical middle-aged woman -  ' game  '  sup...</td>\n",
       "      <td>2</td>\n",
       "    </tr>\n",
       "    <tr>\n",
       "      <th>26</th>\n",
       "      <td>I am not a casual user of on-demand content an...</td>\n",
       "      <td>Positive</td>\n",
       "      <td>1754</td>\n",
       "      <td>casual user  -demand content  devices  try...</td>\n",
       "      <td>2</td>\n",
       "    </tr>\n",
       "    <tr>\n",
       "      <th>27</th>\n",
       "      <td>An Amazon.com official commented on this revie...</td>\n",
       "      <td>Positive</td>\n",
       "      <td>439</td>\n",
       "      <td>amazoncom official comment   review( )  amazo...</td>\n",
       "      <td>2</td>\n",
       "    </tr>\n",
       "    <tr>\n",
       "      <th>28</th>\n",
       "      <td>An Amazon.com official commented on this revie...</td>\n",
       "      <td>Positive</td>\n",
       "      <td>439</td>\n",
       "      <td>amazoncom official comment   review( )  amazo...</td>\n",
       "      <td>2</td>\n",
       "    </tr>\n",
       "    <tr>\n",
       "      <th>29</th>\n",
       "      <td>I am not a casual user of on-demand content an...</td>\n",
       "      <td>Positive</td>\n",
       "      <td>1754</td>\n",
       "      <td>casual user  -demand content  devices  try...</td>\n",
       "      <td>2</td>\n",
       "    </tr>\n",
       "    <tr>\n",
       "      <th>...</th>\n",
       "      <td>...</td>\n",
       "      <td>...</td>\n",
       "      <td>...</td>\n",
       "      <td>...</td>\n",
       "      <td>...</td>\n",
       "    </tr>\n",
       "    <tr>\n",
       "      <th>2901</th>\n",
       "      <td>I am not pleased, every movie I select is a pa...</td>\n",
       "      <td>Negative</td>\n",
       "      <td>211</td>\n",
       "      <td>please every movie  select   pay  view   go...</td>\n",
       "      <td>0</td>\n",
       "    </tr>\n",
       "    <tr>\n",
       "      <th>2902</th>\n",
       "      <td>I am not pleased, every movie I select is a pa...</td>\n",
       "      <td>Negative</td>\n",
       "      <td>211</td>\n",
       "      <td>please every movie  select   pay  view   go...</td>\n",
       "      <td>0</td>\n",
       "    </tr>\n",
       "    <tr>\n",
       "      <th>2903</th>\n",
       "      <td>I bought this case at the same time I bought a...</td>\n",
       "      <td>Negative</td>\n",
       "      <td>862</td>\n",
       "      <td>buy  case    time  buy  new fire tablet  prim...</td>\n",
       "      <td>0</td>\n",
       "    </tr>\n",
       "    <tr>\n",
       "      <th>2904</th>\n",
       "      <td>I am now having to order my third remote becau...</td>\n",
       "      <td>Negative</td>\n",
       "      <td>326</td>\n",
       "      <td>order  third remote   randomly die   reas...</td>\n",
       "      <td>0</td>\n",
       "    </tr>\n",
       "    <tr>\n",
       "      <th>2905</th>\n",
       "      <td>Worked great for a few weeks then completely s...</td>\n",
       "      <td>Negative</td>\n",
       "      <td>104</td>\n",
       "      <td>work great    weeks  completely stop work '   ...</td>\n",
       "      <td>0</td>\n",
       "    </tr>\n",
       "    <tr>\n",
       "      <th>2906</th>\n",
       "      <td>Remote did not activate, nor did it connect to...</td>\n",
       "      <td>Negative</td>\n",
       "      <td>250</td>\n",
       "      <td>remote   activate    connect  boxa poorly desi...</td>\n",
       "      <td>0</td>\n",
       "    </tr>\n",
       "    <tr>\n",
       "      <th>2907</th>\n",
       "      <td>25 for a case for a product that costs 50. Typ...</td>\n",
       "      <td>Negative</td>\n",
       "      <td>298</td>\n",
       "      <td>25   case   product  cost 50 typical scam  ama...</td>\n",
       "      <td>0</td>\n",
       "    </tr>\n",
       "    <tr>\n",
       "      <th>2908</th>\n",
       "      <td>I would have rated this higher (4 stars) but I...</td>\n",
       "      <td>Negative</td>\n",
       "      <td>502</td>\n",
       "      <td>would  rat  higher (4 stars)    take  2 star ...</td>\n",
       "      <td>0</td>\n",
       "    </tr>\n",
       "    <tr>\n",
       "      <th>2909</th>\n",
       "      <td>I already have 2 Roku devices, but thought I w...</td>\n",
       "      <td>Negative</td>\n",
       "      <td>474</td>\n",
       "      <td>already  2 roku devices  think  would give  n...</td>\n",
       "      <td>0</td>\n",
       "    </tr>\n",
       "    <tr>\n",
       "      <th>2910</th>\n",
       "      <td>I was not overly impressed with this system. I...</td>\n",
       "      <td>Negative</td>\n",
       "      <td>436</td>\n",
       "      <td>overly impress   system  ' realize    buy a...</td>\n",
       "      <td>0</td>\n",
       "    </tr>\n",
       "    <tr>\n",
       "      <th>2911</th>\n",
       "      <td>I purchase almost everything with the exceptio...</td>\n",
       "      <td>Negative</td>\n",
       "      <td>2465</td>\n",
       "      <td>purchase almost everything   exception  food ...</td>\n",
       "      <td>0</td>\n",
       "    </tr>\n",
       "    <tr>\n",
       "      <th>2912</th>\n",
       "      <td>This works as a case, and matches the color of...</td>\n",
       "      <td>Negative</td>\n",
       "      <td>577</td>\n",
       "      <td>work   case  match  color   kindle nicely  ma...</td>\n",
       "      <td>0</td>\n",
       "    </tr>\n",
       "    <tr>\n",
       "      <th>2913</th>\n",
       "      <td>This review can not be valid due to the device...</td>\n",
       "      <td>Negative</td>\n",
       "      <td>134</td>\n",
       "      <td>review    valid due   device   work    would ...</td>\n",
       "      <td>0</td>\n",
       "    </tr>\n",
       "    <tr>\n",
       "      <th>2914</th>\n",
       "      <td>I am now having to order my third remote becau...</td>\n",
       "      <td>Negative</td>\n",
       "      <td>326</td>\n",
       "      <td>order  third remote   randomly die   reas...</td>\n",
       "      <td>0</td>\n",
       "    </tr>\n",
       "    <tr>\n",
       "      <th>2915</th>\n",
       "      <td>just okay! Product was for my girlfriend. Does...</td>\n",
       "      <td>Negative</td>\n",
       "      <td>162</td>\n",
       "      <td>okay product    girlfriend ' appear  use  muc...</td>\n",
       "      <td>0</td>\n",
       "    </tr>\n",
       "    <tr>\n",
       "      <th>2916</th>\n",
       "      <td>I would have rated this higher (4 stars) but I...</td>\n",
       "      <td>Negative</td>\n",
       "      <td>502</td>\n",
       "      <td>would  rat  higher (4 stars)    take  2 star ...</td>\n",
       "      <td>0</td>\n",
       "    </tr>\n",
       "    <tr>\n",
       "      <th>2917</th>\n",
       "      <td>Bought a refurbished kindle and literally afte...</td>\n",
       "      <td>Negative</td>\n",
       "      <td>983</td>\n",
       "      <td>buy  refurbish kindle  literally  one month   ...</td>\n",
       "      <td>0</td>\n",
       "    </tr>\n",
       "    <tr>\n",
       "      <th>2918</th>\n",
       "      <td>This is a great controller for our Fire TV, I ...</td>\n",
       "      <td>Negative</td>\n",
       "      <td>1769</td>\n",
       "      <td>great controller   fire tv  purchase 2    t...</td>\n",
       "      <td>0</td>\n",
       "    </tr>\n",
       "    <tr>\n",
       "      <th>2919</th>\n",
       "      <td>Update 12/26/2016: No longer will pair with 2n...</td>\n",
       "      <td>Negative</td>\n",
       "      <td>504</td>\n",
       "      <td>update 12/26/2016  longer  pair  2nd generatio...</td>\n",
       "      <td>0</td>\n",
       "    </tr>\n",
       "    <tr>\n",
       "      <th>2920</th>\n",
       "      <td>As the Kids Edition is nothing more than a bas...</td>\n",
       "      <td>Negative</td>\n",
       "      <td>1698</td>\n",
       "      <td>kid edition  nothing    basic 50 7 kindle fi...</td>\n",
       "      <td>0</td>\n",
       "    </tr>\n",
       "    <tr>\n",
       "      <th>2921</th>\n",
       "      <td>1. While a great idea to make the cover self-s...</td>\n",
       "      <td>Negative</td>\n",
       "      <td>566</td>\n",
       "      <td>1   great idea  make  cover self-standing  ann...</td>\n",
       "      <td>0</td>\n",
       "    </tr>\n",
       "    <tr>\n",
       "      <th>2922</th>\n",
       "      <td>I'm thinking this must of been a fluke, it nev...</td>\n",
       "      <td>Negative</td>\n",
       "      <td>100</td>\n",
       "      <td>' think  must    fluke  never work   return it...</td>\n",
       "      <td>0</td>\n",
       "    </tr>\n",
       "    <tr>\n",
       "      <th>2923</th>\n",
       "      <td>For the price, you should be able to use as a ...</td>\n",
       "      <td>Negative</td>\n",
       "      <td>176</td>\n",
       "      <td>price    able  use   speaker  talk   phone  ...</td>\n",
       "      <td>0</td>\n",
       "    </tr>\n",
       "    <tr>\n",
       "      <th>2924</th>\n",
       "      <td>Bought a refurbished kindle and literally afte...</td>\n",
       "      <td>Negative</td>\n",
       "      <td>983</td>\n",
       "      <td>buy  refurbish kindle  literally  one month   ...</td>\n",
       "      <td>0</td>\n",
       "    </tr>\n",
       "    <tr>\n",
       "      <th>2925</th>\n",
       "      <td>I bought this case at the same time I bought a...</td>\n",
       "      <td>Negative</td>\n",
       "      <td>862</td>\n",
       "      <td>buy  case    time  buy  new fire tablet  prim...</td>\n",
       "      <td>0</td>\n",
       "    </tr>\n",
       "    <tr>\n",
       "      <th>2926</th>\n",
       "      <td>25 for a case for a product that costs 50. Typ...</td>\n",
       "      <td>Negative</td>\n",
       "      <td>298</td>\n",
       "      <td>25   case   product  cost 50 typical scam  ama...</td>\n",
       "      <td>0</td>\n",
       "    </tr>\n",
       "    <tr>\n",
       "      <th>2927</th>\n",
       "      <td>These remotes are terrible and basically dispo...</td>\n",
       "      <td>Negative</td>\n",
       "      <td>389</td>\n",
       "      <td>remotes  terrible  basically disposable '    ...</td>\n",
       "      <td>0</td>\n",
       "    </tr>\n",
       "    <tr>\n",
       "      <th>2928</th>\n",
       "      <td>Voice remote gave out nearly a year after I pu...</td>\n",
       "      <td>Negative</td>\n",
       "      <td>637</td>\n",
       "      <td>voice remote give  nearly  year   purchase cha...</td>\n",
       "      <td>0</td>\n",
       "    </tr>\n",
       "    <tr>\n",
       "      <th>2929</th>\n",
       "      <td>Bought a refurbished kindle and literally afte...</td>\n",
       "      <td>Negative</td>\n",
       "      <td>983</td>\n",
       "      <td>buy  refurbish kindle  literally  one month   ...</td>\n",
       "      <td>0</td>\n",
       "    </tr>\n",
       "    <tr>\n",
       "      <th>2930</th>\n",
       "      <td>Horrible cover for my new (third) Kindle!!! An...</td>\n",
       "      <td>Negative</td>\n",
       "      <td>567</td>\n",
       "      <td>horrible cover   new (third) kindle   seem    ...</td>\n",
       "      <td>0</td>\n",
       "    </tr>\n",
       "  </tbody>\n",
       "</table>\n",
       "<p>2931 rows × 5 columns</p>\n",
       "</div>"
      ],
      "text/plain": [
       "                                           reviews.text     Score  length  \\\n",
       "0     I initially had trouble deciding between the p...  Positive    1064   \n",
       "1     Allow me to preface this with a little history...  Positive    1424   \n",
       "2     I am enjoying it so far. Great for reading. Ha...  Positive     182   \n",
       "3     I bought one of the first Paperwhites and have...  Positive    1671   \n",
       "4     I have to say upfront - I don't like coroporat...  Positive    1916   \n",
       "5     Had older model, that you could text to speech...  Positive     223   \n",
       "6     This is a review of the Kindle Paperwhite laun...  Positive   10670   \n",
       "7     I love my kindle! I got one for my fiance on h...  Positive     859   \n",
       "8     Vraiment bon petit appareil , lger et facile d...  Positive     157   \n",
       "9     Exactly what it is supposed to be. Works great...  Positive     118   \n",
       "10    Trs heureux que les livres soient sur Icloud. ...  Positive     158   \n",
       "11    Only 4 stars because I found it very confusing...  Positive     470   \n",
       "12    Almost like reading a real book. Don't is cris...  Positive     281   \n",
       "13    I already had an original Kindle Paperwhite an...  Positive     716   \n",
       "14    Received my new kindle in perfect condition an...  Positive     205   \n",
       "15    I'm a first-time Kindle owner, so I have nothi...  Positive    1661   \n",
       "16    UPDATE NOVEMBER 2011:My review is now over a y...  Positive    1529   \n",
       "17    I'm a first-time Kindle owner, so I have nothi...  Positive    1661   \n",
       "18    UPDATE NOVEMBER 2011:My review is now over a y...  Positive    1529   \n",
       "19    Having received my Fire TV today, I've been tr...  Positive    1727   \n",
       "20    I am not a casual user of on-demand content an...  Positive    1754   \n",
       "21    Having received my Fire TV today, I've been tr...  Positive    1727   \n",
       "22    I'm your typical middle-aged woman - I don't g...  Positive     898   \n",
       "23    I am not a casual user of on-demand content an...  Positive    1754   \n",
       "24    An Amazon.com official commented on this revie...  Positive     439   \n",
       "25    I'm your typical middle-aged woman - I don't g...  Positive     898   \n",
       "26    I am not a casual user of on-demand content an...  Positive    1754   \n",
       "27    An Amazon.com official commented on this revie...  Positive     439   \n",
       "28    An Amazon.com official commented on this revie...  Positive     439   \n",
       "29    I am not a casual user of on-demand content an...  Positive    1754   \n",
       "...                                                 ...       ...     ...   \n",
       "2901  I am not pleased, every movie I select is a pa...  Negative     211   \n",
       "2902  I am not pleased, every movie I select is a pa...  Negative     211   \n",
       "2903  I bought this case at the same time I bought a...  Negative     862   \n",
       "2904  I am now having to order my third remote becau...  Negative     326   \n",
       "2905  Worked great for a few weeks then completely s...  Negative     104   \n",
       "2906  Remote did not activate, nor did it connect to...  Negative     250   \n",
       "2907  25 for a case for a product that costs 50. Typ...  Negative     298   \n",
       "2908  I would have rated this higher (4 stars) but I...  Negative     502   \n",
       "2909  I already have 2 Roku devices, but thought I w...  Negative     474   \n",
       "2910  I was not overly impressed with this system. I...  Negative     436   \n",
       "2911  I purchase almost everything with the exceptio...  Negative    2465   \n",
       "2912  This works as a case, and matches the color of...  Negative     577   \n",
       "2913  This review can not be valid due to the device...  Negative     134   \n",
       "2914  I am now having to order my third remote becau...  Negative     326   \n",
       "2915  just okay! Product was for my girlfriend. Does...  Negative     162   \n",
       "2916  I would have rated this higher (4 stars) but I...  Negative     502   \n",
       "2917  Bought a refurbished kindle and literally afte...  Negative     983   \n",
       "2918  This is a great controller for our Fire TV, I ...  Negative    1769   \n",
       "2919  Update 12/26/2016: No longer will pair with 2n...  Negative     504   \n",
       "2920  As the Kids Edition is nothing more than a bas...  Negative    1698   \n",
       "2921  1. While a great idea to make the cover self-s...  Negative     566   \n",
       "2922  I'm thinking this must of been a fluke, it nev...  Negative     100   \n",
       "2923  For the price, you should be able to use as a ...  Negative     176   \n",
       "2924  Bought a refurbished kindle and literally afte...  Negative     983   \n",
       "2925  I bought this case at the same time I bought a...  Negative     862   \n",
       "2926  25 for a case for a product that costs 50. Typ...  Negative     298   \n",
       "2927  These remotes are terrible and basically dispo...  Negative     389   \n",
       "2928  Voice remote gave out nearly a year after I pu...  Negative     637   \n",
       "2929  Bought a refurbished kindle and literally afte...  Negative     983   \n",
       "2930  Horrible cover for my new (third) Kindle!!! An...  Negative     567   \n",
       "\n",
       "                                                reviews  sentiment  \n",
       "0      initially  trouble decide   paperwhite   voya...          2  \n",
       "1     allow   preface    little history   ()  casual...          2  \n",
       "2       enjoy   far great  read   original fire sinc...          2  \n",
       "3      buy one   first paperwhites     please      c...          2  \n",
       "4        say upfront -  ' like coroporate hermetical...          2  \n",
       "5      older model   could text  speech  one ' like ...          2  \n",
       "6        review   kindle paperwhite launch july 2015...          2  \n",
       "7      love  kindle  get one   fiance   birthday  lo...          2  \n",
       "8     vraiment bon petit appareil  lger et facile  e...          2  \n",
       "9     exactly    suppose   work great   love  built-...          2  \n",
       "10    trs heureux que les livres soient sur icloud a...          2  \n",
       "11     4 star   find   confuse  first    kindle  fin...          2  \n",
       "12    almost like read  real book '  crisp sharp  ea...          2  \n",
       "13     already   original kindle paperwhite  love  b...          2  \n",
       "14    receive  new kindle  perfect condition     hap...          2  \n",
       "15    '  first-time kindle owner    nothing  compare...          2  \n",
       "16    update november 2011my review     year old    ...          2  \n",
       "17    '  first-time kindle owner    nothing  compare...          2  \n",
       "18    update november 2011my review     year old    ...          2  \n",
       "19     receive  fire tv today '  try     past couple...          2  \n",
       "20        casual user  -demand content  devices  try...          2  \n",
       "21     receive  fire tv today '  try     past couple...          2  \n",
       "22    '  typical middle-aged woman -  ' game  '  sup...          2  \n",
       "23        casual user  -demand content  devices  try...          2  \n",
       "24     amazoncom official comment   review( )  amazo...          2  \n",
       "25    '  typical middle-aged woman -  ' game  '  sup...          2  \n",
       "26        casual user  -demand content  devices  try...          2  \n",
       "27     amazoncom official comment   review( )  amazo...          2  \n",
       "28     amazoncom official comment   review( )  amazo...          2  \n",
       "29        casual user  -demand content  devices  try...          2  \n",
       "...                                                 ...        ...  \n",
       "2901     please every movie  select   pay  view   go...          0  \n",
       "2902     please every movie  select   pay  view   go...          0  \n",
       "2903   buy  case    time  buy  new fire tablet  prim...          0  \n",
       "2904       order  third remote   randomly die   reas...          0  \n",
       "2905  work great    weeks  completely stop work '   ...          0  \n",
       "2906  remote   activate    connect  boxa poorly desi...          0  \n",
       "2907  25   case   product  cost 50 typical scam  ama...          0  \n",
       "2908   would  rat  higher (4 stars)    take  2 star ...          0  \n",
       "2909   already  2 roku devices  think  would give  n...          0  \n",
       "2910     overly impress   system  ' realize    buy a...          0  \n",
       "2911   purchase almost everything   exception  food ...          0  \n",
       "2912   work   case  match  color   kindle nicely  ma...          0  \n",
       "2913   review    valid due   device   work    would ...          0  \n",
       "2914       order  third remote   randomly die   reas...          0  \n",
       "2915   okay product    girlfriend ' appear  use  muc...          0  \n",
       "2916   would  rat  higher (4 stars)    take  2 star ...          0  \n",
       "2917  buy  refurbish kindle  literally  one month   ...          0  \n",
       "2918     great controller   fire tv  purchase 2    t...          0  \n",
       "2919  update 12/26/2016  longer  pair  2nd generatio...          0  \n",
       "2920    kid edition  nothing    basic 50 7 kindle fi...          0  \n",
       "2921  1   great idea  make  cover self-standing  ann...          0  \n",
       "2922  ' think  must    fluke  never work   return it...          0  \n",
       "2923    price    able  use   speaker  talk   phone  ...          0  \n",
       "2924  buy  refurbish kindle  literally  one month   ...          0  \n",
       "2925   buy  case    time  buy  new fire tablet  prim...          0  \n",
       "2926  25   case   product  cost 50 typical scam  ama...          0  \n",
       "2927   remotes  terrible  basically disposable '    ...          0  \n",
       "2928  voice remote give  nearly  year   purchase cha...          0  \n",
       "2929  buy  refurbish kindle  literally  one month   ...          0  \n",
       "2930  horrible cover   new (third) kindle   seem    ...          0  \n",
       "\n",
       "[2931 rows x 5 columns]"
      ]
     },
     "execution_count": 55,
     "metadata": {},
     "output_type": "execute_result"
    }
   ],
   "source": [
    "df"
   ]
  },
  {
   "cell_type": "markdown",
   "metadata": {},
   "source": [
    "## Train - Test split"
   ]
  },
  {
   "cell_type": "code",
   "execution_count": 59,
   "metadata": {
    "ExecuteTime": {
     "end_time": "2019-09-22T08:01:01.156138Z",
     "start_time": "2019-09-22T08:01:01.151126Z"
    },
    "collapsed": true
   },
   "outputs": [],
   "source": [
    "X_train, X_test, y_train, y_test = train_test_split(df['reviews'], \n",
    "                                                    df['sentiment'], \n",
    "                                                    test_size=0.20, \n",
    "                                                    random_state=8,\n",
    "                                                    shuffle=True)"
   ]
  },
  {
   "cell_type": "markdown",
   "metadata": {},
   "source": [
    "## Text Representation"
   ]
  },
  {
   "cell_type": "code",
   "execution_count": 60,
   "metadata": {
    "ExecuteTime": {
     "end_time": "2019-09-22T08:01:02.283085Z",
     "start_time": "2019-09-22T08:01:02.279087Z"
    },
    "collapsed": true
   },
   "outputs": [],
   "source": [
    "ngram_range = (1,2)\n",
    "min_df = 10\n",
    "max_df = 1.\n",
    "max_features = 4500"
   ]
  },
  {
   "cell_type": "code",
   "execution_count": 61,
   "metadata": {
    "ExecuteTime": {
     "end_time": "2019-09-22T08:01:03.498052Z",
     "start_time": "2019-09-22T08:01:03.062044Z"
    }
   },
   "outputs": [
    {
     "name": "stdout",
     "output_type": "stream",
     "text": [
      "(2344, 4500)\n",
      "(587, 4500)\n"
     ]
    }
   ],
   "source": [
    "tfidf = TfidfVectorizer(encoding='utf-8',\n",
    "                        ngram_range=ngram_range,\n",
    "                        stop_words=None,\n",
    "                        lowercase=False,\n",
    "                        max_df=max_df,\n",
    "                        min_df=min_df,\n",
    "                        max_features=max_features,\n",
    "                        norm='l2',\n",
    "                        sublinear_tf=True)\n",
    "                        \n",
    "features_train = tfidf.fit_transform(X_train).toarray()\n",
    "labels_train = y_train\n",
    "print(features_train.shape)\n",
    "\n",
    "features_test = tfidf.transform(X_test).toarray()\n",
    "labels_test = y_test\n",
    "print(features_test.shape)\n",
    "# we transform every word into a vector"
   ]
  },
  {
   "cell_type": "markdown",
   "metadata": {},
   "source": [
    "# Algorithms for selection"
   ]
  },
  {
   "cell_type": "markdown",
   "metadata": {},
   "source": [
    "## Multinomial Naive Bayes"
   ]
  },
  {
   "cell_type": "code",
   "execution_count": 62,
   "metadata": {
    "ExecuteTime": {
     "end_time": "2019-09-22T08:01:07.259097Z",
     "start_time": "2019-09-22T08:01:07.253106Z"
    },
    "collapsed": true
   },
   "outputs": [],
   "source": [
    "import pickle #we save the accuracy in there\n",
    "\n",
    "from sklearn.naive_bayes import MultinomialNB\n",
    "from sklearn.metrics import classification_report, confusion_matrix, accuracy_score"
   ]
  },
  {
   "cell_type": "code",
   "execution_count": 63,
   "metadata": {
    "ExecuteTime": {
     "end_time": "2019-09-22T08:01:08.081641Z",
     "start_time": "2019-09-22T08:01:08.077633Z"
    }
   },
   "outputs": [
    {
     "data": {
      "text/plain": [
       "MultinomialNB(alpha=1.0, class_prior=None, fit_prior=True)"
      ]
     },
     "execution_count": 63,
     "metadata": {},
     "output_type": "execute_result"
    }
   ],
   "source": [
    "mnbc = MultinomialNB()\n",
    "mnbc"
   ]
  },
  {
   "cell_type": "code",
   "execution_count": 64,
   "metadata": {
    "ExecuteTime": {
     "end_time": "2019-09-22T08:01:09.367606Z",
     "start_time": "2019-09-22T08:01:09.321632Z"
    }
   },
   "outputs": [
    {
     "data": {
      "text/plain": [
       "MultinomialNB(alpha=1.0, class_prior=None, fit_prior=True)"
      ]
     },
     "execution_count": 64,
     "metadata": {},
     "output_type": "execute_result"
    }
   ],
   "source": [
    "mnbc.fit(features_train, labels_train)"
   ]
  },
  {
   "cell_type": "code",
   "execution_count": 65,
   "metadata": {
    "ExecuteTime": {
     "end_time": "2019-09-22T08:01:10.640262Z",
     "start_time": "2019-09-22T08:01:10.631265Z"
    },
    "collapsed": true
   },
   "outputs": [],
   "source": [
    "mnbc_pred = mnbc.predict(features_test)"
   ]
  },
  {
   "cell_type": "code",
   "execution_count": 66,
   "metadata": {
    "ExecuteTime": {
     "end_time": "2019-09-22T08:01:11.337349Z",
     "start_time": "2019-09-22T08:01:11.311364Z"
    }
   },
   "outputs": [
    {
     "name": "stdout",
     "output_type": "stream",
     "text": [
      "The training accuracy is: \n",
      "0.887372013652\n"
     ]
    }
   ],
   "source": [
    "#training accuracy\n",
    "print(\"The training accuracy is: \")\n",
    "print(accuracy_score(labels_train, mnbc.predict(features_train)))"
   ]
  },
  {
   "cell_type": "code",
   "execution_count": 67,
   "metadata": {
    "ExecuteTime": {
     "end_time": "2019-09-22T08:01:12.174863Z",
     "start_time": "2019-09-22T08:01:12.170873Z"
    }
   },
   "outputs": [
    {
     "name": "stdout",
     "output_type": "stream",
     "text": [
      "The test accuracy is: \n",
      "0.860306643952\n"
     ]
    }
   ],
   "source": [
    "# Test accuracy\n",
    "print(\"The test accuracy is: \")\n",
    "print(accuracy_score(labels_test, mnbc_pred))"
   ]
  },
  {
   "cell_type": "code",
   "execution_count": 68,
   "metadata": {
    "ExecuteTime": {
     "end_time": "2019-09-22T08:01:14.082219Z",
     "start_time": "2019-09-22T08:01:14.076209Z"
    }
   },
   "outputs": [
    {
     "name": "stdout",
     "output_type": "stream",
     "text": [
      "Classification report\n",
      "             precision    recall  f1-score   support\n",
      "\n",
      "          0       0.97      0.93      0.95       215\n",
      "          1       0.97      0.65      0.77       178\n",
      "          2       0.72      0.97      0.83       194\n",
      "\n",
      "avg / total       0.89      0.86      0.86       587\n",
      "\n"
     ]
    }
   ],
   "source": [
    "print(\"Classification report\")\n",
    "print(classification_report(labels_test,mnbc_pred))"
   ]
  },
  {
   "cell_type": "code",
   "execution_count": 238,
   "metadata": {
    "ExecuteTime": {
     "end_time": "2019-09-17T14:19:38.934350Z",
     "start_time": "2019-09-17T14:19:38.927340Z"
    }
   },
   "outputs": [
    {
     "data": {
      "text/plain": [
       "array([[201,   3,  11],\n",
       "       [  2, 115,  61],\n",
       "       [  4,   1, 189]], dtype=int64)"
      ]
     },
     "execution_count": 238,
     "metadata": {},
     "output_type": "execute_result"
    }
   ],
   "source": [
    "confusion_matrix_mnbc = confusion_matrix(labels_test, mnbc_pred)\n",
    "confusion_matrix_mnbc"
   ]
  },
  {
   "cell_type": "code",
   "execution_count": 84,
   "metadata": {
    "ExecuteTime": {
     "end_time": "2019-09-22T08:13:30.666334Z",
     "start_time": "2019-09-22T08:13:30.515436Z"
    }
   },
   "outputs": [
    {
     "data": {
      "image/png": "[encoded data removed]",
      "text/plain": [
       "<matplotlib.figure.Figure at 0x1b322816080>"
      ]
     },
     "metadata": {},
     "output_type": "display_data"
    }
   ],
   "source": [
    "aux_df = df[['Score', 'sentiment']].drop_duplicates().sort_values('sentiment')\n",
    "conf_matrix = confusion_matrix(labels_test, mnbc_pred)\n",
    "plt.figure(figsize=(10,6))\n",
    "sns.heatmap(conf_matrix, \n",
    "            annot=True,\n",
    "            xticklabels=aux_df['Score'].values, \n",
    "            yticklabels=aux_df['Score'].values,\n",
    "            cmap=\"Blues\",fmt= 'd')\n",
    "plt.ylabel('Predicted')\n",
    "plt.xlabel('Actual')\n",
    "plt.title('Confusion matrix')\n",
    "plt.show()"
   ]
  },
  {
   "cell_type": "code",
   "execution_count": 85,
   "metadata": {
    "ExecuteTime": {
     "end_time": "2019-09-22T08:13:42.288455Z",
     "start_time": "2019-09-22T08:13:42.257473Z"
    },
    "collapsed": true
   },
   "outputs": [],
   "source": [
    "d = {\n",
    "     'Model': 'Multinomial Naïve Bayes',\n",
    "     'Training Set Accuracy': accuracy_score(labels_train, mnbc.predict(features_train)),\n",
    "     'Test Set Accuracy': accuracy_score(labels_test, mnbc_pred)\n",
    "}\n",
    "\n",
    "df_models_mnbc = pd.DataFrame(d, index=[0])"
   ]
  },
  {
   "cell_type": "code",
   "execution_count": 86,
   "metadata": {
    "ExecuteTime": {
     "end_time": "2019-09-22T08:13:43.309822Z",
     "start_time": "2019-09-22T08:13:43.302826Z"
    }
   },
   "outputs": [
    {
     "data": {
      "text/html": [
       "<div>\n",
       "<style>\n",
       "    .dataframe thead tr:only-child th {\n",
       "        text-align: right;\n",
       "    }\n",
       "\n",
       "    .dataframe thead th {\n",
       "        text-align: left;\n",
       "    }\n",
       "\n",
       "    .dataframe tbody tr th {\n",
       "        vertical-align: top;\n",
       "    }\n",
       "</style>\n",
       "<table border=\"1\" class=\"dataframe\">\n",
       "  <thead>\n",
       "    <tr style=\"text-align: right;\">\n",
       "      <th></th>\n",
       "      <th>Model</th>\n",
       "      <th>Test Set Accuracy</th>\n",
       "      <th>Training Set Accuracy</th>\n",
       "    </tr>\n",
       "  </thead>\n",
       "  <tbody>\n",
       "    <tr>\n",
       "      <th>0</th>\n",
       "      <td>Multinomial Naïve Bayes</td>\n",
       "      <td>0.860307</td>\n",
       "      <td>0.887372</td>\n",
       "    </tr>\n",
       "  </tbody>\n",
       "</table>\n",
       "</div>"
      ],
      "text/plain": [
       "                     Model  Test Set Accuracy  Training Set Accuracy\n",
       "0  Multinomial Naïve Bayes           0.860307               0.887372"
      ]
     },
     "execution_count": 86,
     "metadata": {},
     "output_type": "execute_result"
    }
   ],
   "source": [
    "df_models_mnbc"
   ]
  },
  {
   "cell_type": "code",
   "execution_count": 87,
   "metadata": {
    "ExecuteTime": {
     "end_time": "2019-09-22T08:13:44.759782Z",
     "start_time": "2019-09-22T08:13:44.753786Z"
    },
    "collapsed": true
   },
   "outputs": [],
   "source": [
    "with open('best_mnbc.pickle', 'wb') as output:\n",
    "    pickle.dump(mnbc, output)\n",
    "    \n",
    "with open('df_models_mnbc.pickle', 'wb') as output:\n",
    "    pickle.dump(df_models_mnbc, output)"
   ]
  },
  {
   "cell_type": "markdown",
   "metadata": {},
   "source": [
    "## Logistic Regression"
   ]
  },
  {
   "cell_type": "code",
   "execution_count": 88,
   "metadata": {
    "ExecuteTime": {
     "end_time": "2019-09-22T08:13:46.175880Z",
     "start_time": "2019-09-22T08:13:46.172882Z"
    },
    "collapsed": true
   },
   "outputs": [],
   "source": [
    "from sklearn.linear_model import LogisticRegression"
   ]
  },
  {
   "cell_type": "code",
   "execution_count": 89,
   "metadata": {
    "ExecuteTime": {
     "end_time": "2019-09-22T08:13:46.928853Z",
     "start_time": "2019-09-22T08:13:46.924871Z"
    },
    "collapsed": true
   },
   "outputs": [],
   "source": [
    "lr = LogisticRegression(random_state=0, solver='lbfgs',\n",
    "                          multi_class='multinomial')"
   ]
  },
  {
   "cell_type": "code",
   "execution_count": 90,
   "metadata": {
    "ExecuteTime": {
     "end_time": "2019-09-22T08:13:49.668071Z",
     "start_time": "2019-09-22T08:13:48.763589Z"
    }
   },
   "outputs": [
    {
     "data": {
      "text/plain": [
       "LogisticRegression(C=1.0, class_weight=None, dual=False, fit_intercept=True,\n",
       "          intercept_scaling=1, max_iter=100, multi_class='multinomial',\n",
       "          n_jobs=1, penalty='l2', random_state=0, solver='lbfgs',\n",
       "          tol=0.0001, verbose=0, warm_start=False)"
      ]
     },
     "execution_count": 90,
     "metadata": {},
     "output_type": "execute_result"
    }
   ],
   "source": [
    "lr.fit(features_train, labels_train)"
   ]
  },
  {
   "cell_type": "code",
   "execution_count": 91,
   "metadata": {
    "ExecuteTime": {
     "end_time": "2019-09-22T08:13:49.908932Z",
     "start_time": "2019-09-22T08:13:49.898939Z"
    },
    "collapsed": true
   },
   "outputs": [],
   "source": [
    "lr_pred = lr.predict(features_test)"
   ]
  },
  {
   "cell_type": "code",
   "execution_count": 92,
   "metadata": {
    "ExecuteTime": {
     "end_time": "2019-09-22T08:13:51.211917Z",
     "start_time": "2019-09-22T08:13:51.184932Z"
    }
   },
   "outputs": [
    {
     "name": "stdout",
     "output_type": "stream",
     "text": [
      "The training accuracy is: \n",
      "0.991894197952\n"
     ]
    }
   ],
   "source": [
    "print(\"The training accuracy is: \")\n",
    "print(accuracy_score(labels_train, lr.predict(features_train)))"
   ]
  },
  {
   "cell_type": "code",
   "execution_count": 93,
   "metadata": {
    "ExecuteTime": {
     "end_time": "2019-09-22T08:13:52.499982Z",
     "start_time": "2019-09-22T08:13:52.495984Z"
    }
   },
   "outputs": [
    {
     "name": "stdout",
     "output_type": "stream",
     "text": [
      "The test accuracy is: \n",
      "0.979557069847\n"
     ]
    }
   ],
   "source": [
    "print(\"The test accuracy is: \")\n",
    "print(accuracy_score(labels_test, lr_pred))"
   ]
  },
  {
   "cell_type": "code",
   "execution_count": 94,
   "metadata": {
    "ExecuteTime": {
     "end_time": "2019-09-22T08:13:54.748711Z",
     "start_time": "2019-09-22T08:13:54.742701Z"
    }
   },
   "outputs": [
    {
     "name": "stdout",
     "output_type": "stream",
     "text": [
      "Classification report\n",
      "             precision    recall  f1-score   support\n",
      "\n",
      "          0       0.97      1.00      0.99       215\n",
      "          1       0.98      0.98      0.98       178\n",
      "          2       0.98      0.95      0.97       194\n",
      "\n",
      "avg / total       0.98      0.98      0.98       587\n",
      "\n"
     ]
    }
   ],
   "source": [
    "print(\"Classification report\")\n",
    "print(classification_report(labels_test,lr_pred))"
   ]
  },
  {
   "cell_type": "code",
   "execution_count": 95,
   "metadata": {
    "ExecuteTime": {
     "end_time": "2019-09-22T08:13:56.158298Z",
     "start_time": "2019-09-22T08:13:56.153300Z"
    }
   },
   "outputs": [
    {
     "data": {
      "text/plain": [
       "array([[215,   0,   0],\n",
       "       [  0, 175,   3],\n",
       "       [  6,   3, 185]], dtype=int64)"
      ]
     },
     "execution_count": 95,
     "metadata": {},
     "output_type": "execute_result"
    }
   ],
   "source": [
    "confusion_matrix_lr = confusion_matrix(labels_test, lr_pred)\n",
    "confusion_matrix_lr"
   ]
  },
  {
   "cell_type": "code",
   "execution_count": 96,
   "metadata": {
    "ExecuteTime": {
     "end_time": "2019-09-22T08:14:19.103749Z",
     "start_time": "2019-09-22T08:14:18.950317Z"
    }
   },
   "outputs": [
    {
     "data": {
      "image/png": "[encoded data removed]",
      "text/plain": [
       "<matplotlib.figure.Figure at 0x1b3225b4320>"
      ]
     },
     "metadata": {},
     "output_type": "display_data"
    }
   ],
   "source": [
    "aux_df = df[['Score', 'sentiment']].drop_duplicates().sort_values('sentiment')\n",
    "conf_matrix = confusion_matrix(labels_test, lr_pred)\n",
    "plt.figure(figsize=(10,6))\n",
    "sns.heatmap(conf_matrix, \n",
    "            annot=True,\n",
    "            xticklabels=aux_df['Score'].values, \n",
    "            yticklabels=aux_df['Score'].values,\n",
    "            cmap=\"Blues\",fmt= 'd')\n",
    "plt.ylabel('Predicted')\n",
    "plt.xlabel('Actual')\n",
    "plt.title('Confusion matrix')\n",
    "plt.show()"
   ]
  },
  {
   "cell_type": "code",
   "execution_count": 97,
   "metadata": {
    "ExecuteTime": {
     "end_time": "2019-09-22T08:14:31.857762Z",
     "start_time": "2019-09-22T08:14:31.829795Z"
    },
    "collapsed": true
   },
   "outputs": [],
   "source": [
    "d = {\n",
    "     'Model': 'Logistic Regression',\n",
    "     'Training Set Accuracy': accuracy_score(labels_train, lr.predict(features_train)),\n",
    "     'Test Set Accuracy': accuracy_score(labels_test, lr_pred)\n",
    "}\n",
    "\n",
    "df_models_lr = pd.DataFrame(d, index=[0])"
   ]
  },
  {
   "cell_type": "code",
   "execution_count": 98,
   "metadata": {
    "ExecuteTime": {
     "end_time": "2019-09-22T08:14:32.826788Z",
     "start_time": "2019-09-22T08:14:32.819777Z"
    }
   },
   "outputs": [
    {
     "data": {
      "text/html": [
       "<div>\n",
       "<style>\n",
       "    .dataframe thead tr:only-child th {\n",
       "        text-align: right;\n",
       "    }\n",
       "\n",
       "    .dataframe thead th {\n",
       "        text-align: left;\n",
       "    }\n",
       "\n",
       "    .dataframe tbody tr th {\n",
       "        vertical-align: top;\n",
       "    }\n",
       "</style>\n",
       "<table border=\"1\" class=\"dataframe\">\n",
       "  <thead>\n",
       "    <tr style=\"text-align: right;\">\n",
       "      <th></th>\n",
       "      <th>Model</th>\n",
       "      <th>Test Set Accuracy</th>\n",
       "      <th>Training Set Accuracy</th>\n",
       "    </tr>\n",
       "  </thead>\n",
       "  <tbody>\n",
       "    <tr>\n",
       "      <th>0</th>\n",
       "      <td>Logistic Regression</td>\n",
       "      <td>0.979557</td>\n",
       "      <td>0.991894</td>\n",
       "    </tr>\n",
       "  </tbody>\n",
       "</table>\n",
       "</div>"
      ],
      "text/plain": [
       "                 Model  Test Set Accuracy  Training Set Accuracy\n",
       "0  Logistic Regression           0.979557               0.991894"
      ]
     },
     "execution_count": 98,
     "metadata": {},
     "output_type": "execute_result"
    }
   ],
   "source": [
    "df_models_lr"
   ]
  },
  {
   "cell_type": "code",
   "execution_count": 99,
   "metadata": {
    "ExecuteTime": {
     "end_time": "2019-09-22T08:14:33.897479Z",
     "start_time": "2019-09-22T08:14:33.892482Z"
    },
    "collapsed": true
   },
   "outputs": [],
   "source": [
    "with open('best_lr.pickle', 'wb') as output:\n",
    "    pickle.dump(lr, output)\n",
    "    \n",
    "with open('df_models_lr.pickle', 'wb') as output:\n",
    "    pickle.dump(df_models_lr, output)"
   ]
  },
  {
   "cell_type": "markdown",
   "metadata": {},
   "source": [
    "## Random Forest"
   ]
  },
  {
   "cell_type": "code",
   "execution_count": 100,
   "metadata": {
    "ExecuteTime": {
     "end_time": "2019-09-22T08:14:35.466614Z",
     "start_time": "2019-09-22T08:14:35.358676Z"
    },
    "collapsed": true
   },
   "outputs": [],
   "source": [
    "from sklearn.ensemble import RandomForestClassifier"
   ]
  },
  {
   "cell_type": "code",
   "execution_count": 101,
   "metadata": {
    "ExecuteTime": {
     "end_time": "2019-09-22T08:14:36.291781Z",
     "start_time": "2019-09-22T08:14:36.009958Z"
    }
   },
   "outputs": [
    {
     "data": {
      "text/plain": [
       "RandomForestClassifier(bootstrap=True, class_weight=None, criterion='gini',\n",
       "            max_depth=None, max_features='auto', max_leaf_nodes=None,\n",
       "            min_impurity_decrease=0.0, min_impurity_split=None,\n",
       "            min_samples_leaf=1, min_samples_split=2,\n",
       "            min_weight_fraction_leaf=0.0, n_estimators=10, n_jobs=1,\n",
       "            oob_score=False, random_state=None, verbose=0,\n",
       "            warm_start=False)"
      ]
     },
     "execution_count": 101,
     "metadata": {},
     "output_type": "execute_result"
    }
   ],
   "source": [
    "rf = RandomForestClassifier(max_depth = None,n_estimators=10)\n",
    "rf.fit(features_train, labels_train)"
   ]
  },
  {
   "cell_type": "code",
   "execution_count": 102,
   "metadata": {
    "ExecuteTime": {
     "end_time": "2019-09-22T08:14:37.398157Z",
     "start_time": "2019-09-22T08:14:37.380136Z"
    },
    "collapsed": true
   },
   "outputs": [],
   "source": [
    "rf_pred = rf.predict(features_test)"
   ]
  },
  {
   "cell_type": "code",
   "execution_count": 103,
   "metadata": {
    "ExecuteTime": {
     "end_time": "2019-09-22T08:14:37.896922Z",
     "start_time": "2019-09-22T08:14:37.849950Z"
    }
   },
   "outputs": [
    {
     "name": "stdout",
     "output_type": "stream",
     "text": [
      "The training accuracy is: \n",
      "0.999146757679\n"
     ]
    }
   ],
   "source": [
    "print(\"The training accuracy is: \")\n",
    "print(accuracy_score(labels_train, rf.predict(features_train)))"
   ]
  },
  {
   "cell_type": "code",
   "execution_count": 104,
   "metadata": {
    "ExecuteTime": {
     "end_time": "2019-09-22T08:14:38.674059Z",
     "start_time": "2019-09-22T08:14:38.669063Z"
    }
   },
   "outputs": [
    {
     "name": "stdout",
     "output_type": "stream",
     "text": [
      "The test accuracy is: \n",
      "0.984667802385\n"
     ]
    }
   ],
   "source": [
    "print(\"The test accuracy is: \")\n",
    "print(accuracy_score(labels_test, rf_pred))"
   ]
  },
  {
   "cell_type": "code",
   "execution_count": 105,
   "metadata": {
    "ExecuteTime": {
     "end_time": "2019-09-22T08:14:40.165314Z",
     "start_time": "2019-09-22T08:14:40.159319Z"
    }
   },
   "outputs": [
    {
     "name": "stdout",
     "output_type": "stream",
     "text": [
      "Classification report\n",
      "             precision    recall  f1-score   support\n",
      "\n",
      "          0       0.97      1.00      0.99       215\n",
      "          1       0.98      1.00      0.99       178\n",
      "          2       1.00      0.95      0.98       194\n",
      "\n",
      "avg / total       0.99      0.98      0.98       587\n",
      "\n"
     ]
    }
   ],
   "source": [
    "print(\"Classification report\")\n",
    "print(classification_report(labels_test,rf_pred))"
   ]
  },
  {
   "cell_type": "code",
   "execution_count": 106,
   "metadata": {
    "ExecuteTime": {
     "end_time": "2019-09-22T08:14:40.684326Z",
     "start_time": "2019-09-22T08:14:40.679328Z"
    }
   },
   "outputs": [
    {
     "data": {
      "text/plain": [
       "array([[215,   0,   0],\n",
       "       [  0, 178,   0],\n",
       "       [  6,   3, 185]], dtype=int64)"
      ]
     },
     "execution_count": 106,
     "metadata": {},
     "output_type": "execute_result"
    }
   ],
   "source": [
    "confusion_matrix_rf = confusion_matrix(labels_test, rf_pred)\n",
    "confusion_matrix_rf"
   ]
  },
  {
   "cell_type": "code",
   "execution_count": 107,
   "metadata": {
    "ExecuteTime": {
     "end_time": "2019-09-22T08:14:55.407609Z",
     "start_time": "2019-09-22T08:14:55.247701Z"
    }
   },
   "outputs": [
    {
     "data": {
      "image/png": "[encoded data removed]",
      "text/plain": [
       "<matplotlib.figure.Figure at 0x1b322cb4da0>"
      ]
     },
     "metadata": {},
     "output_type": "display_data"
    }
   ],
   "source": [
    "aux_df = df[['Score', 'sentiment']].drop_duplicates().sort_values('sentiment')\n",
    "conf_matrix = confusion_matrix(labels_test, rf_pred)\n",
    "plt.figure(figsize=(10,6))\n",
    "sns.heatmap(conf_matrix, \n",
    "            annot=True,\n",
    "            xticklabels=aux_df['Score'].values, \n",
    "            yticklabels=aux_df['Score'].values,\n",
    "            cmap=\"Blues\",fmt= 'd')\n",
    "plt.ylabel('Predicted')\n",
    "plt.xlabel('Actual')\n",
    "plt.title('Confusion matrix')\n",
    "plt.show()"
   ]
  },
  {
   "cell_type": "code",
   "execution_count": 108,
   "metadata": {
    "ExecuteTime": {
     "end_time": "2019-09-22T08:15:13.246308Z",
     "start_time": "2019-09-22T08:15:13.197351Z"
    },
    "collapsed": true
   },
   "outputs": [],
   "source": [
    "d = {\n",
    "     'Model': 'Random Forest',\n",
    "     'Training Set Accuracy': accuracy_score(labels_train, rf.predict(features_train)),\n",
    "     'Test Set Accuracy': accuracy_score(labels_test, rf_pred)\n",
    "}\n",
    "\n",
    "df_models_rf = pd.DataFrame(d, index=[0])"
   ]
  },
  {
   "cell_type": "code",
   "execution_count": 109,
   "metadata": {
    "ExecuteTime": {
     "end_time": "2019-09-22T08:15:13.834689Z",
     "start_time": "2019-09-22T08:15:13.826694Z"
    }
   },
   "outputs": [
    {
     "data": {
      "text/html": [
       "<div>\n",
       "<style>\n",
       "    .dataframe thead tr:only-child th {\n",
       "        text-align: right;\n",
       "    }\n",
       "\n",
       "    .dataframe thead th {\n",
       "        text-align: left;\n",
       "    }\n",
       "\n",
       "    .dataframe tbody tr th {\n",
       "        vertical-align: top;\n",
       "    }\n",
       "</style>\n",
       "<table border=\"1\" class=\"dataframe\">\n",
       "  <thead>\n",
       "    <tr style=\"text-align: right;\">\n",
       "      <th></th>\n",
       "      <th>Model</th>\n",
       "      <th>Test Set Accuracy</th>\n",
       "      <th>Training Set Accuracy</th>\n",
       "    </tr>\n",
       "  </thead>\n",
       "  <tbody>\n",
       "    <tr>\n",
       "      <th>0</th>\n",
       "      <td>Random Forest</td>\n",
       "      <td>0.984668</td>\n",
       "      <td>0.999147</td>\n",
       "    </tr>\n",
       "  </tbody>\n",
       "</table>\n",
       "</div>"
      ],
      "text/plain": [
       "           Model  Test Set Accuracy  Training Set Accuracy\n",
       "0  Random Forest           0.984668               0.999147"
      ]
     },
     "execution_count": 109,
     "metadata": {},
     "output_type": "execute_result"
    }
   ],
   "source": [
    "df_models_rf"
   ]
  },
  {
   "cell_type": "code",
   "execution_count": 110,
   "metadata": {
    "ExecuteTime": {
     "end_time": "2019-09-22T08:15:14.721934Z",
     "start_time": "2019-09-22T08:15:14.715928Z"
    },
    "collapsed": true
   },
   "outputs": [],
   "source": [
    "with open('best_rf.pickle', 'wb') as output:\n",
    "    pickle.dump(rf, output)\n",
    "    \n",
    "with open('df_models_rf.pickle', 'wb') as output:\n",
    "    pickle.dump(df_models_rf, output)"
   ]
  },
  {
   "cell_type": "markdown",
   "metadata": {},
   "source": [
    "## Gradient Boosting"
   ]
  },
  {
   "cell_type": "code",
   "execution_count": 111,
   "metadata": {
    "ExecuteTime": {
     "end_time": "2019-09-22T08:15:16.943662Z",
     "start_time": "2019-09-22T08:15:16.939664Z"
    },
    "collapsed": true
   },
   "outputs": [],
   "source": [
    "from sklearn.ensemble import GradientBoostingClassifier"
   ]
  },
  {
   "cell_type": "code",
   "execution_count": 112,
   "metadata": {
    "ExecuteTime": {
     "end_time": "2019-09-22T08:17:21.896705Z",
     "start_time": "2019-09-22T08:15:17.425398Z"
    }
   },
   "outputs": [
    {
     "data": {
      "text/plain": [
       "GradientBoostingClassifier(criterion='friedman_mse', init=None,\n",
       "              learning_rate=0.1, loss='deviance', max_depth=3,\n",
       "              max_features=None, max_leaf_nodes=None,\n",
       "              min_impurity_decrease=0.0, min_impurity_split=None,\n",
       "              min_samples_leaf=1, min_samples_split=2,\n",
       "              min_weight_fraction_leaf=0.0, n_estimators=100,\n",
       "              presort='auto', random_state=None, subsample=1.0, verbose=0,\n",
       "              warm_start=False)"
      ]
     },
     "execution_count": 112,
     "metadata": {},
     "output_type": "execute_result"
    }
   ],
   "source": [
    "gbc = GradientBoostingClassifier()\n",
    "gbc.fit(features_train, labels_train)"
   ]
  },
  {
   "cell_type": "code",
   "execution_count": 113,
   "metadata": {
    "ExecuteTime": {
     "end_time": "2019-09-22T08:17:49.262311Z",
     "start_time": "2019-09-22T08:17:49.242323Z"
    },
    "collapsed": true
   },
   "outputs": [],
   "source": [
    "gbc_pred = gbc.predict(features_test)"
   ]
  },
  {
   "cell_type": "code",
   "execution_count": 114,
   "metadata": {
    "ExecuteTime": {
     "end_time": "2019-09-22T08:17:50.280346Z",
     "start_time": "2019-09-22T08:17:50.201391Z"
    }
   },
   "outputs": [
    {
     "name": "stdout",
     "output_type": "stream",
     "text": [
      "The training accuracy is: \n",
      "0.992320819113\n"
     ]
    }
   ],
   "source": [
    "print(\"The training accuracy is: \")\n",
    "print(accuracy_score(labels_train, gbc.predict(features_train)))"
   ]
  },
  {
   "cell_type": "code",
   "execution_count": 115,
   "metadata": {
    "ExecuteTime": {
     "end_time": "2019-09-22T08:17:51.327305Z",
     "start_time": "2019-09-22T08:17:51.322309Z"
    }
   },
   "outputs": [
    {
     "name": "stdout",
     "output_type": "stream",
     "text": [
      "The test accuracy is: \n",
      "0.962521294719\n"
     ]
    }
   ],
   "source": [
    "print(\"The test accuracy is: \")\n",
    "print(accuracy_score(labels_test, gbc_pred))"
   ]
  },
  {
   "cell_type": "code",
   "execution_count": 116,
   "metadata": {
    "ExecuteTime": {
     "end_time": "2019-09-22T08:17:53.668332Z",
     "start_time": "2019-09-22T08:17:53.662304Z"
    }
   },
   "outputs": [
    {
     "name": "stdout",
     "output_type": "stream",
     "text": [
      "Classification report\n",
      "             precision    recall  f1-score   support\n",
      "\n",
      "          0       0.93      1.00      0.97       215\n",
      "          1       0.96      1.00      0.98       178\n",
      "          2       1.00      0.89      0.94       194\n",
      "\n",
      "avg / total       0.96      0.96      0.96       587\n",
      "\n"
     ]
    }
   ],
   "source": [
    "print(\"Classification report\")\n",
    "print(classification_report(labels_test,gbc_pred))"
   ]
  },
  {
   "cell_type": "code",
   "execution_count": 117,
   "metadata": {
    "ExecuteTime": {
     "end_time": "2019-09-22T08:17:55.160406Z",
     "start_time": "2019-09-22T08:17:55.154410Z"
    }
   },
   "outputs": [
    {
     "data": {
      "text/plain": [
       "array([[215,   0,   0],\n",
       "       [  0, 178,   0],\n",
       "       [ 15,   7, 172]], dtype=int64)"
      ]
     },
     "execution_count": 117,
     "metadata": {},
     "output_type": "execute_result"
    }
   ],
   "source": [
    "confusion_matrix_gbc = confusion_matrix(labels_test, gbc_pred)\n",
    "confusion_matrix_gbc"
   ]
  },
  {
   "cell_type": "code",
   "execution_count": 118,
   "metadata": {
    "ExecuteTime": {
     "end_time": "2019-09-22T08:18:09.709335Z",
     "start_time": "2019-09-22T08:18:09.554933Z"
    }
   },
   "outputs": [
    {
     "data": {
      "image/png": "[encoded data removed]",
      "text/plain": [
       "<matplotlib.figure.Figure at 0x1b322bf3ef0>"
      ]
     },
     "metadata": {},
     "output_type": "display_data"
    }
   ],
   "source": [
    "aux_df = df[['Score', 'sentiment']].drop_duplicates().sort_values('sentiment')\n",
    "conf_matrix = confusion_matrix(labels_test, gbc_pred)\n",
    "plt.figure(figsize=(10,6))\n",
    "sns.heatmap(conf_matrix, \n",
    "            annot=True,\n",
    "            xticklabels=aux_df['Score'].values, \n",
    "            yticklabels=aux_df['Score'].values,\n",
    "            cmap=\"Blues\",fmt= 'd')\n",
    "plt.ylabel('Predicted')\n",
    "plt.xlabel('Actual')\n",
    "plt.title('Confusion matrix')\n",
    "plt.show()"
   ]
  },
  {
   "cell_type": "code",
   "execution_count": 119,
   "metadata": {
    "ExecuteTime": {
     "end_time": "2019-09-22T08:18:13.645676Z",
     "start_time": "2019-09-22T08:18:13.571719Z"
    },
    "collapsed": true
   },
   "outputs": [],
   "source": [
    "d = {\n",
    "     'Model': 'Gradient Boosting',\n",
    "     'Training Set Accuracy': accuracy_score(labels_train, gbc.predict(features_train)),\n",
    "     'Test Set Accuracy': accuracy_score(labels_test, gbc_pred)\n",
    "}\n",
    "\n",
    "df_models_gbc = pd.DataFrame(d, index=[0])"
   ]
  },
  {
   "cell_type": "code",
   "execution_count": 120,
   "metadata": {
    "ExecuteTime": {
     "end_time": "2019-09-22T08:18:14.288790Z",
     "start_time": "2019-09-22T08:18:14.280796Z"
    }
   },
   "outputs": [
    {
     "data": {
      "text/html": [
       "<div>\n",
       "<style>\n",
       "    .dataframe thead tr:only-child th {\n",
       "        text-align: right;\n",
       "    }\n",
       "\n",
       "    .dataframe thead th {\n",
       "        text-align: left;\n",
       "    }\n",
       "\n",
       "    .dataframe tbody tr th {\n",
       "        vertical-align: top;\n",
       "    }\n",
       "</style>\n",
       "<table border=\"1\" class=\"dataframe\">\n",
       "  <thead>\n",
       "    <tr style=\"text-align: right;\">\n",
       "      <th></th>\n",
       "      <th>Model</th>\n",
       "      <th>Test Set Accuracy</th>\n",
       "      <th>Training Set Accuracy</th>\n",
       "    </tr>\n",
       "  </thead>\n",
       "  <tbody>\n",
       "    <tr>\n",
       "      <th>0</th>\n",
       "      <td>Gradient Boosting</td>\n",
       "      <td>0.962521</td>\n",
       "      <td>0.992321</td>\n",
       "    </tr>\n",
       "  </tbody>\n",
       "</table>\n",
       "</div>"
      ],
      "text/plain": [
       "               Model  Test Set Accuracy  Training Set Accuracy\n",
       "0  Gradient Boosting           0.962521               0.992321"
      ]
     },
     "execution_count": 120,
     "metadata": {},
     "output_type": "execute_result"
    }
   ],
   "source": [
    "df_models_gbc"
   ]
  },
  {
   "cell_type": "code",
   "execution_count": 121,
   "metadata": {
    "ExecuteTime": {
     "end_time": "2019-09-22T08:18:15.703874Z",
     "start_time": "2019-09-22T08:18:15.690868Z"
    },
    "collapsed": true
   },
   "outputs": [],
   "source": [
    "with open('best_gbc.pickle', 'wb') as output:\n",
    "    pickle.dump(gbc, output)\n",
    "    \n",
    "with open('df_models_gbc.pickle', 'wb') as output:\n",
    "    pickle.dump(df_models_gbc, output)"
   ]
  },
  {
   "cell_type": "markdown",
   "metadata": {},
   "source": [
    "# Best Model Selection"
   ]
  },
  {
   "cell_type": "code",
   "execution_count": 122,
   "metadata": {
    "ExecuteTime": {
     "end_time": "2019-09-22T08:18:18.209248Z",
     "start_time": "2019-09-22T08:18:18.195257Z"
    },
    "collapsed": true
   },
   "outputs": [],
   "source": [
    "list_pickles = [\n",
    "    \"df_models_gbc.pickle\",\n",
    "    \"df_models_lr.pickle\",\n",
    "    \"df_models_mnbc.pickle\",\n",
    "    \"df_models_rf.pickle\",\n",
    "]\n",
    "\n",
    "df_summary = pd.DataFrame()\n",
    "\n",
    "for i in list_pickles:\n",
    "        \n",
    "    with open(i, 'rb') as data:\n",
    "        df = pickle.load(data)\n",
    "\n",
    "    df_summary = df_summary.append(df)\n",
    "\n",
    "df_summary = df_summary.reset_index().drop('index', axis=1)"
   ]
  },
  {
   "cell_type": "code",
   "execution_count": 123,
   "metadata": {
    "ExecuteTime": {
     "end_time": "2019-09-22T08:18:19.267411Z",
     "start_time": "2019-09-22T08:18:19.260399Z"
    }
   },
   "outputs": [
    {
     "data": {
      "text/html": [
       "<div>\n",
       "<style>\n",
       "    .dataframe thead tr:only-child th {\n",
       "        text-align: right;\n",
       "    }\n",
       "\n",
       "    .dataframe thead th {\n",
       "        text-align: left;\n",
       "    }\n",
       "\n",
       "    .dataframe tbody tr th {\n",
       "        vertical-align: top;\n",
       "    }\n",
       "</style>\n",
       "<table border=\"1\" class=\"dataframe\">\n",
       "  <thead>\n",
       "    <tr style=\"text-align: right;\">\n",
       "      <th></th>\n",
       "      <th>Model</th>\n",
       "      <th>Test Set Accuracy</th>\n",
       "      <th>Training Set Accuracy</th>\n",
       "    </tr>\n",
       "  </thead>\n",
       "  <tbody>\n",
       "    <tr>\n",
       "      <th>0</th>\n",
       "      <td>Gradient Boosting</td>\n",
       "      <td>0.962521</td>\n",
       "      <td>0.992321</td>\n",
       "    </tr>\n",
       "    <tr>\n",
       "      <th>1</th>\n",
       "      <td>Logistic Regression</td>\n",
       "      <td>0.979557</td>\n",
       "      <td>0.991894</td>\n",
       "    </tr>\n",
       "    <tr>\n",
       "      <th>2</th>\n",
       "      <td>Multinomial Naïve Bayes</td>\n",
       "      <td>0.860307</td>\n",
       "      <td>0.887372</td>\n",
       "    </tr>\n",
       "    <tr>\n",
       "      <th>3</th>\n",
       "      <td>Random Forest</td>\n",
       "      <td>0.984668</td>\n",
       "      <td>0.999147</td>\n",
       "    </tr>\n",
       "  </tbody>\n",
       "</table>\n",
       "</div>"
      ],
      "text/plain": [
       "                     Model  Test Set Accuracy  Training Set Accuracy\n",
       "0        Gradient Boosting           0.962521               0.992321\n",
       "1      Logistic Regression           0.979557               0.991894\n",
       "2  Multinomial Naïve Bayes           0.860307               0.887372\n",
       "3            Random Forest           0.984668               0.999147"
      ]
     },
     "execution_count": 123,
     "metadata": {},
     "output_type": "execute_result"
    }
   ],
   "source": [
    "df_summary"
   ]
  },
  {
   "cell_type": "code",
   "execution_count": 124,
   "metadata": {
    "ExecuteTime": {
     "end_time": "2019-09-22T08:18:21.847287Z",
     "start_time": "2019-09-22T08:18:21.839292Z"
    }
   },
   "outputs": [
    {
     "data": {
      "text/html": [
       "<div>\n",
       "<style>\n",
       "    .dataframe thead tr:only-child th {\n",
       "        text-align: right;\n",
       "    }\n",
       "\n",
       "    .dataframe thead th {\n",
       "        text-align: left;\n",
       "    }\n",
       "\n",
       "    .dataframe tbody tr th {\n",
       "        vertical-align: top;\n",
       "    }\n",
       "</style>\n",
       "<table border=\"1\" class=\"dataframe\">\n",
       "  <thead>\n",
       "    <tr style=\"text-align: right;\">\n",
       "      <th></th>\n",
       "      <th>Model</th>\n",
       "      <th>Test Set Accuracy</th>\n",
       "      <th>Training Set Accuracy</th>\n",
       "    </tr>\n",
       "  </thead>\n",
       "  <tbody>\n",
       "    <tr>\n",
       "      <th>3</th>\n",
       "      <td>Random Forest</td>\n",
       "      <td>0.984668</td>\n",
       "      <td>0.999147</td>\n",
       "    </tr>\n",
       "    <tr>\n",
       "      <th>1</th>\n",
       "      <td>Logistic Regression</td>\n",
       "      <td>0.979557</td>\n",
       "      <td>0.991894</td>\n",
       "    </tr>\n",
       "    <tr>\n",
       "      <th>0</th>\n",
       "      <td>Gradient Boosting</td>\n",
       "      <td>0.962521</td>\n",
       "      <td>0.992321</td>\n",
       "    </tr>\n",
       "    <tr>\n",
       "      <th>2</th>\n",
       "      <td>Multinomial Naïve Bayes</td>\n",
       "      <td>0.860307</td>\n",
       "      <td>0.887372</td>\n",
       "    </tr>\n",
       "  </tbody>\n",
       "</table>\n",
       "</div>"
      ],
      "text/plain": [
       "                     Model  Test Set Accuracy  Training Set Accuracy\n",
       "3            Random Forest           0.984668               0.999147\n",
       "1      Logistic Regression           0.979557               0.991894\n",
       "0        Gradient Boosting           0.962521               0.992321\n",
       "2  Multinomial Naïve Bayes           0.860307               0.887372"
      ]
     },
     "execution_count": 124,
     "metadata": {},
     "output_type": "execute_result"
    }
   ],
   "source": [
    "df_summary.sort_values('Test Set Accuracy', ascending=False)"
   ]
  },
  {
   "cell_type": "markdown",
   "metadata": {},
   "source": [
    "# THE END"
   ]
  }
 ],
 "metadata": {
  "kernelspec": {
   "display_name": "Python 3",
   "language": "python",
   "name": "python3"
  },
  "language_info": {
   "codemirror_mode": {
    "name": "ipython",
    "version": 3
   },
   "file_extension": ".py",
   "mimetype": "text/x-python",
   "name": "python",
   "nbconvert_exporter": "python",
   "pygments_lexer": "ipython3",
   "version": "3.6.3"
  },
  "latex_envs": {
   "LaTeX_envs_menu_present": true,
   "autoclose": false,
   "autocomplete": true,
   "bibliofile": "biblio.bib",
   "cite_by": "apalike",
   "current_citInitial": 1,
   "eqLabelWithNumbers": true,
   "eqNumInitial": 1,
   "hotkeys": {
    "equation": "Ctrl-E",
    "itemize": "Ctrl-I"
   },
   "labels_anchors": false,
   "latex_user_defs": false,
   "report_style_numbering": false,
   "user_envs_cfg": false
  },
  "toc": {
   "nav_menu": {},
   "number_sections": true,
   "sideBar": true,
   "skip_h1_title": false,
   "title_cell": "Table of Contents",
   "title_sidebar": "Contents",
   "toc_cell": false,
   "toc_position": {},
   "toc_section_display": true,
   "toc_window_display": false
  },
  "varInspector": {
   "cols": {
    "lenName": 16,
    "lenType": 16,
    "lenVar": 40
   },
   "kernels_config": {
    "python": {
     "delete_cmd_postfix": "",
     "delete_cmd_prefix": "del ",
     "library": "var_list.py",
     "varRefreshCmd": "print(var_dic_list())"
    },
    "r": {
     "delete_cmd_postfix": ") ",
     "delete_cmd_prefix": "rm(",
     "library": "var_list.r",
     "varRefreshCmd": "cat(var_dic_list()) "
    }
   },
   "types_to_exclude": [
    "module",
    "function",
    "builtin_function_or_method",
    "instance",
    "_Feature"
   ],
   "window_display": false
  }
 },
 "nbformat": 4,
 "nbformat_minor": 2
}
